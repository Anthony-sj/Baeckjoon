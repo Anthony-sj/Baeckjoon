{
 "cells": [
  {
   "cell_type": "code",
   "execution_count": 6,
   "metadata": {},
   "outputs": [
    {
     "name": "stdout",
     "output_type": "stream",
     "text": [
      "ABAC\n",
      "A\n",
      "ABC\n"
     ]
    }
   ],
   "source": [
    "# 5357\n",
    "N = int(input())\n",
    "for _ in range(N):\n",
    "    result = str()\n",
    "    Text = str(input())\n",
    "    last_dup = 0\n",
    "    for i in range(len(Text)-1):        \n",
    "        if Text[i+1] != Text[last_dup]:\n",
    "            result = result + f'{Text[last_dup]}'\n",
    "            last_dup = i+1\n",
    "    print(result+f'{Text[last_dup]}')"
   ]
  },
  {
   "cell_type": "code",
   "execution_count": 3,
   "metadata": {},
   "outputs": [
    {
     "name": "stdout",
     "output_type": "stream",
     "text": [
      "Alan Page\n",
      "John Heisman\n",
      "Justin Forsett\n",
      "Phil Simms\n",
      "Tim Tebow\n",
      "Marshawn Lynch\n",
      "Leon Washington\n"
     ]
    }
   ],
   "source": [
    "# 5358\n",
    "dict = {'i' : 'e', 'e' : 'i', 'I' : 'E', 'E' : 'I'}\n",
    "while True:\n",
    "    rep_name = ''\n",
    "    try:\n",
    "        Name = str(input())\n",
    "    except:\n",
    "        break\n",
    "    if Name == '':\n",
    "        break\n",
    "    for n in range(len(Name)):\n",
    "        if Name[n] in dict.keys():\n",
    "            rep_name += dict[Name[n]]\n",
    "        else:\n",
    "            rep_name += Name[n]\n",
    "    print(rep_name)"
   ]
  },
  {
   "cell_type": "code",
   "execution_count": 4,
   "metadata": {},
   "outputs": [
    {
     "name": "stdout",
     "output_type": "stream",
     "text": [
      "agbegdgefsggesg\n",
      "\n",
      "\n"
     ]
    }
   ],
   "source": [
    "# 5524\n",
    "N = int(input())\n",
    "for _ in range(N):\n",
    "    name = str(input())\n",
    "    print(name.lower())"
   ]
  },
  {
   "cell_type": "code",
   "execution_count": 6,
   "metadata": {},
   "outputs": [
    {
     "name": "stdout",
     "output_type": "stream",
     "text": [
      "15\n"
     ]
    }
   ],
   "source": [
    "# 5532\n",
    "L, A, B, C, D = int(input()) ,int(input()) ,int(input()),int(input()), int(input())\n",
    "K = A//C\n",
    "M = B//D\n",
    "if A%C != 0:\n",
    "    K += 1\n",
    "if B%D != 0:\n",
    "    M += 1\n",
    "if K > M:\n",
    "    X = K\n",
    "else:\n",
    "    X = M\n",
    "print(L - X)"
   ]
  },
  {
   "cell_type": "code",
   "execution_count": 7,
   "metadata": {},
   "outputs": [
    {
     "name": "stdout",
     "output_type": "stream",
     "text": [
      "15\n"
     ]
    }
   ],
   "source": [
    "print(L - max(A//C + (1 if A%C else 0), B//D + (1 if B%D else 0)))"
   ]
  },
  {
   "cell_type": "code",
   "execution_count": 15,
   "metadata": {},
   "outputs": [
    {
     "name": "stdout",
     "output_type": "stream",
     "text": [
      "848\n"
     ]
    }
   ],
   "source": [
    "# 5543\n",
    "Bugger = [int(input()), int(input()), int(input())]\n",
    "Drink = [int(input()), int(input())]\n",
    "X = [b+d for b in Bugger for d in Drink]\n",
    "print(min(X) - 50)\n"
   ]
  },
  {
   "cell_type": "code",
   "execution_count": 17,
   "metadata": {},
   "outputs": [
    {
     "name": "stdout",
     "output_type": "stream",
     "text": [
      "3\n",
      "43\n"
     ]
    }
   ],
   "source": [
    "# 5554\n",
    "T = int(input()) + int(input()) + int(input()) + int(input())\n",
    "print(T//60)\n",
    "print(T%60)"
   ]
  },
  {
   "cell_type": "code",
   "execution_count": 13,
   "metadata": {},
   "outputs": [],
   "source": [
    "# 5575\n",
    "while True:\n",
    "    try:\n",
    "        A = list(map(int, input().split(' ')))\n",
    "    except:\n",
    "        break\n",
    "    W = [A[i+3]-A[i] for i in range(3)]\n",
    "    T = W[0]*60*60 + W[1]*60 + W[2]\n",
    "    print(f'{((T//60)//60)%24} {(T//60)%60} {T%60}')"
   ]
  },
  {
   "cell_type": "code",
   "execution_count": 19,
   "metadata": {},
   "outputs": [
    {
     "name": "stdout",
     "output_type": "stream",
     "text": [
      "8 59 59\n"
     ]
    }
   ],
   "source": [
    "while True:\n",
    "    try:\n",
    "        A = list(map(int, input().split(' ')))\n",
    "    except:\n",
    "        break\n",
    "    W = [A[i+3]-A[i] for i in range(3)]\n",
    "    s = W[2]\n",
    "    m = W[1] + s//60\n",
    "    h = W[0] + m//60\n",
    "    print(h, m%60, s%60)"
   ]
  },
  {
   "cell_type": "code",
   "execution_count": 24,
   "metadata": {},
   "outputs": [
    {
     "name": "stdout",
     "output_type": "stream",
     "text": [
      "310\n"
     ]
    }
   ],
   "source": [
    "# 5596\n",
    "S = map(int, input().split())\n",
    "T = map(int, input().split())\n",
    "print(max(sum(S), sum(T)))"
   ]
  },
  {
   "cell_type": "code",
   "execution_count": 25,
   "metadata": {},
   "outputs": [
    {
     "name": "stdout",
     "output_type": "stream",
     "text": [
      "4\n",
      "5\n",
      "10\n"
     ]
    }
   ],
   "source": [
    "# 5717\n",
    "while 1:\n",
    "    try:\n",
    "        M, F = map(int, input().split(' '))\n",
    "    except:\n",
    "        break\n",
    "    if M == 0 & F == 0:\n",
    "        break\n",
    "    print(M + F)"
   ]
  },
  {
   "cell_type": "code",
   "execution_count": 53,
   "metadata": {},
   "outputs": [
    {
     "name": "stdout",
     "output_type": "stream",
     "text": [
      "3 2 1\n",
      "1563\n"
     ]
    }
   ],
   "source": [
    "# 5928\n",
    "D, H, M = map(int, input().split(' '))\n",
    "M -= 11\n",
    "H -= 11 + (M < 0)\n",
    "D -= 11 + (H < 0)\n",
    "X = D*60*24 + (H%24)*60 + M%60\n",
    "if X < 0:\n",
    "    X = -1\n",
    "print(X)"
   ]
  },
  {
   "cell_type": "code",
   "execution_count": 54,
   "metadata": {},
   "outputs": [
    {
     "name": "stdout",
     "output_type": "stream",
     "text": [
      "18\n"
     ]
    }
   ],
   "source": [
    "# 6749\n",
    "Y, M = int(input()), int(input())\n",
    "O = M + (M-Y)\n",
    "print(O)"
   ]
  },
  {
   "cell_type": "code",
   "execution_count": 60,
   "metadata": {},
   "outputs": [
    {
     "name": "stdout",
     "output_type": "stream",
     "text": [
      "Congratulations, you are within the speed limit!\n"
     ]
    }
   ],
   "source": [
    "# 6763\n",
    "Fines = [0, 100, 270, 500]\n",
    "B, S = int(input()), int(input())\n",
    "x = S - B\n",
    "if x > 30:\n",
    "    idx = 3\n",
    "elif x > 20:\n",
    "    idx = 2\n",
    "elif x > 0:\n",
    "    idx = 1\n",
    "else:\n",
    "    idx = 0\n",
    "if idx != 0:\n",
    "    print(f'You are speeding and your fine is ${Fines[idx]}.')\n",
    "else:\n",
    "    print('Congratulations, you are within the speed limit!')"
   ]
  },
  {
   "cell_type": "code",
   "execution_count": 71,
   "metadata": {},
   "outputs": [
    {
     "name": "stdout",
     "output_type": "stream",
     "text": [
      "Congratulations, you are within the speed limit!\n"
     ]
    }
   ],
   "source": [
    "B, S = int(input()), int(input()); S-=B\n",
    "print((\"Congratulations, you are within the speed limit!\" if S<=0 else f\"You are speeding and your fine is ${100+(1 if S>20 else 0)*170 + 230*(1 if S>30 else 0)}.\"))"
   ]
  },
  {
   "cell_type": "code",
   "execution_count": 91,
   "metadata": {},
   "outputs": [
    {
     "name": "stdout",
     "output_type": "stream",
     "text": [
      "No Fish\n"
     ]
    }
   ],
   "source": [
    "# 6764\n",
    "deps = [int(input()) for _ in range(4)]\n",
    "deps_delta = [1 if deps[i]-deps[i+1] < 0 else 0 if deps[i]-deps[i+1] == 0 else -1 for i in range(3)]\n",
    "msgs = [\"Fish Rising\", \"Fish Diving\", \"Fish At Constant Depth\", \"No Fish\"]\n",
    "idx = 3\n",
    "if deps[0] < deps[-1]:\n",
    "    if sum(deps_delta) == 3:\n",
    "        idx = 0\n",
    "elif deps[0] > deps[-1]:\n",
    "    if sum(deps_delta) == -3:\n",
    "        idx = 1    \n",
    "elif deps[0] == deps[-1]:\n",
    "    idx = 2\n",
    "    for d in deps_delta:\n",
    "        if d != 0:\n",
    "            idx = 3\n",
    "            break\n",
    "print(msgs[idx])"
   ]
  },
  {
   "cell_type": "code",
   "execution_count": 92,
   "metadata": {},
   "outputs": [
    {
     "ename": "ValueError",
     "evalue": "IPython won't let you open fd=0 by default as it is likely to crash IPython. If you know what you are doing, you can use builtins' open.",
     "output_type": "error",
     "traceback": [
      "\u001b[1;31m---------------------------------------------------------------------------\u001b[0m",
      "\u001b[1;31mValueError\u001b[0m                                Traceback (most recent call last)",
      "Cell \u001b[1;32mIn[92], line 1\u001b[0m\n\u001b[1;32m----> 1\u001b[0m a,b,c,d\u001b[39m=\u001b[39m\u001b[39mmap\u001b[39m(\u001b[39mint\u001b[39m,\u001b[39mopen\u001b[39;49m(\u001b[39m0\u001b[39;49m))\n\u001b[0;32m      2\u001b[0m \u001b[39mif\u001b[39;00m a\u001b[39m<\u001b[39mb\u001b[39m<\u001b[39mc\u001b[39m<\u001b[39md:\u001b[39mprint\u001b[39m(\u001b[39m'\u001b[39m\u001b[39mFish Rising\u001b[39m\u001b[39m'\u001b[39m)\n\u001b[0;32m      3\u001b[0m \u001b[39melif\u001b[39;00m a\u001b[39m>\u001b[39mb\u001b[39m>\u001b[39mc\u001b[39m>\u001b[39md:\u001b[39mprint\u001b[39m(\u001b[39m'\u001b[39m\u001b[39mFish Diving\u001b[39m\u001b[39m'\u001b[39m)\n",
      "File \u001b[1;32m~\\AppData\\Roaming\\Python\\Python310\\site-packages\\IPython\\core\\interactiveshell.py:278\u001b[0m, in \u001b[0;36m_modified_open\u001b[1;34m(file, *args, **kwargs)\u001b[0m\n\u001b[0;32m    275\u001b[0m \u001b[39m@functools\u001b[39m\u001b[39m.\u001b[39mwraps(io_open)\n\u001b[0;32m    276\u001b[0m \u001b[39mdef\u001b[39;00m \u001b[39m_modified_open\u001b[39m(file, \u001b[39m*\u001b[39margs, \u001b[39m*\u001b[39m\u001b[39m*\u001b[39mkwargs):\n\u001b[0;32m    277\u001b[0m     \u001b[39mif\u001b[39;00m file \u001b[39min\u001b[39;00m {\u001b[39m0\u001b[39m, \u001b[39m1\u001b[39m, \u001b[39m2\u001b[39m}:\n\u001b[1;32m--> 278\u001b[0m         \u001b[39mraise\u001b[39;00m \u001b[39mValueError\u001b[39;00m(\n\u001b[0;32m    279\u001b[0m             \u001b[39mf\u001b[39m\u001b[39m\"\u001b[39m\u001b[39mIPython won\u001b[39m\u001b[39m'\u001b[39m\u001b[39mt let you open fd=\u001b[39m\u001b[39m{\u001b[39;00mfile\u001b[39m}\u001b[39;00m\u001b[39m by default \u001b[39m\u001b[39m\"\u001b[39m\n\u001b[0;32m    280\u001b[0m             \u001b[39m\"\u001b[39m\u001b[39mas it is likely to crash IPython. If you know what you are doing, \u001b[39m\u001b[39m\"\u001b[39m\n\u001b[0;32m    281\u001b[0m             \u001b[39m\"\u001b[39m\u001b[39myou can use builtins\u001b[39m\u001b[39m'\u001b[39m\u001b[39m open.\u001b[39m\u001b[39m\"\u001b[39m\n\u001b[0;32m    282\u001b[0m         )\n\u001b[0;32m    284\u001b[0m     \u001b[39mreturn\u001b[39;00m io_open(file, \u001b[39m*\u001b[39margs, \u001b[39m*\u001b[39m\u001b[39m*\u001b[39mkwargs)\n",
      "\u001b[1;31mValueError\u001b[0m: IPython won't let you open fd=0 by default as it is likely to crash IPython. If you know what you are doing, you can use builtins' open."
     ]
    }
   ],
   "source": [
    "a,b,c,d=map(int,open(0))\n",
    "if a<b<c<d:print('Fish Rising')\n",
    "elif a>b>c>d:print('Fish Diving')\n",
    "elif a==b==c==d:print('Fish At Constant Depth')\n",
    "else:print('No Fish')"
   ]
  }
 ],
 "metadata": {
  "kernelspec": {
   "display_name": "Python 3",
   "language": "python",
   "name": "python3"
  },
  "language_info": {
   "codemirror_mode": {
    "name": "ipython",
    "version": 3
   },
   "file_extension": ".py",
   "mimetype": "text/x-python",
   "name": "python",
   "nbconvert_exporter": "python",
   "pygments_lexer": "ipython3",
   "version": "3.10.6"
  },
  "orig_nbformat": 4
 },
 "nbformat": 4,
 "nbformat_minor": 2
}
