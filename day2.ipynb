{
 "cells": [
  {
   "cell_type": "code",
   "execution_count": 1,
   "metadata": {},
   "outputs": [],
   "source": [
    "# 10951\n",
    "while True:\n",
    "    try:\n",
    "        a, b = map(int, input().split())\n",
    "        print(a+b)\n",
    "    except:\n",
    "        break"
   ]
  },
  {
   "cell_type": "code",
   "execution_count": 2,
   "metadata": {},
   "outputs": [
    {
     "name": "stdout",
     "output_type": "stream",
     "text": [
      "10\n",
      "0\n"
     ]
    }
   ],
   "source": [
    "# 1271\n",
    "n, m = map(int, input().split(' '))\n",
    "print(n//m)\n",
    "print(n%m)"
   ]
  },
  {
   "cell_type": "code",
   "execution_count": null,
   "metadata": {},
   "outputs": [],
   "source": [
    "# 1330\n",
    "a, b = map(int, input().split(' '))\n",
    "if a > b:\n",
    "    print('>')\n",
    "elif a < b:\n",
    "    print('<')\n",
    "elif a == b:\n",
    "    print('==')"
   ]
  },
  {
   "cell_type": "code",
   "execution_count": null,
   "metadata": {},
   "outputs": [],
   "source": [
    "# 1330 (4ms 빠른 버전)\n",
    "a, b = map(int, input().split(' '))\n",
    "if a >= b:\n",
    "    if a == b:\n",
    "        print('==')\n",
    "    else:\n",
    "        print('>')\n",
    "else:\n",
    "    print('<')"
   ]
  },
  {
   "cell_type": "code",
   "execution_count": 3,
   "metadata": {},
   "outputs": [
    {
     "name": "stdout",
     "output_type": "stream",
     "text": [
      "\n",
      "(___)\n",
      "(o o)____/\n",
      " @@      \\\n",
      "  \\ ____,/\n",
      "  //   //\n",
      " ^^   ^^\n",
      "\n"
     ]
    }
   ],
   "source": [
    "# 1809 (????????????)\n",
    "a = \"\"\"\n",
    "(___)\n",
    "(o o)____/\n",
    " @@      \\\\\n",
    "  \\\\ ____,/\n",
    "  //   //\n",
    " ^^   ^^\n",
    "\"\"\"\n",
    "print(a)"
   ]
  },
  {
   "cell_type": "code",
   "execution_count": 4,
   "metadata": {},
   "outputs": [
    {
     "name": "stdout",
     "output_type": "stream",
     "text": [
      "0\n",
      "2\n",
      "-1\n"
     ]
    }
   ],
   "source": [
    "# 2338\n",
    "a = int(input())\n",
    "b = int(input())\n",
    "print(a+b)\n",
    "print(a-b)\n",
    "print(a*b)"
   ]
  },
  {
   "cell_type": "code",
   "execution_count": 5,
   "metadata": {},
   "outputs": [
    {
     "name": "stdout",
     "output_type": "stream",
     "text": [
      "7\n"
     ]
    }
   ],
   "source": [
    "# 2372\n",
    "n, m = map(int, input().split(' '))\n",
    "print(abs(n-m))"
   ]
  },
  {
   "cell_type": "code",
   "execution_count": 6,
   "metadata": {},
   "outputs": [
    {
     "name": "stdout",
     "output_type": "stream",
     "text": [
      "*\n",
      "**\n",
      "***\n",
      "****\n",
      "*****\n"
     ]
    }
   ],
   "source": [
    "# 2438\n",
    "N = int(input())\n",
    "for i in range(N):\n",
    "    print('*'*(i+1))"
   ]
  },
  {
   "cell_type": "code",
   "execution_count": 9,
   "metadata": {},
   "outputs": [
    {
     "name": "stdout",
     "output_type": "stream",
     "text": [
      "1\n"
     ]
    }
   ],
   "source": [
    "# 2475\n",
    "T = list(map(int, input().split(' ')))\n",
    "sum_squre = 0\n",
    "for t in T:\n",
    "    sum_squre += t**2\n",
    "print(sum_squre%10)"
   ]
  },
  {
   "cell_type": "code",
   "execution_count": null,
   "metadata": {},
   "outputs": [],
   "source": [
    "# 2475\n",
    "T = list(map(int, input().split(' ')))\n",
    "sum_squre = sum(t**2 for t in T)\n",
    "print(sum_squre%10)"
   ]
  },
  {
   "cell_type": "code",
   "execution_count": 10,
   "metadata": {},
   "outputs": [
    {
     "name": "stdout",
     "output_type": "stream",
     "text": [
      "3\n"
     ]
    }
   ],
   "source": [
    "# 2558\n",
    "a = int(input())\n",
    "b = int(input())\n",
    "print(a+b)"
   ]
  },
  {
   "cell_type": "code",
   "execution_count": 18,
   "metadata": {},
   "outputs": [
    {
     "name": "stdout",
     "output_type": "stream",
     "text": [
      "4 4 4\n",
      "6 6 6\n",
      "5 6 100\n"
     ]
    }
   ],
   "source": [
    "# 2738\n",
    "N, M = map(int, input().split(' '))\n",
    "A = [list(map(int, input().split(' '))) for _ in range(N)]\n",
    "B = [list(map(int, input().split(' '))) for _ in range(N)]\n",
    "for n in range(N):\n",
    "    for m in range(M):\n",
    "        A[n][m] += B[n][m]\n",
    "    print(' '.join(map(str, A[n])))"
   ]
  },
  {
   "cell_type": "code",
   "execution_count": 20,
   "metadata": {},
   "outputs": [
    {
     "name": "stdout",
     "output_type": "stream",
     "text": [
      "2 * 1 = 2\n",
      "2 * 2 = 4\n",
      "2 * 3 = 6\n",
      "2 * 4 = 8\n",
      "2 * 5 = 10\n",
      "2 * 6 = 12\n",
      "2 * 7 = 14\n",
      "2 * 8 = 16\n",
      "2 * 9 = 18\n"
     ]
    }
   ],
   "source": [
    "# 2739\n",
    "N = int(input())\n",
    "for i in range(9):\n",
    "    print(f\"{N} * {i+1} = {N*(i+1)}\")"
   ]
  },
  {
   "cell_type": "code",
   "execution_count": 54,
   "metadata": {},
   "outputs": [
    {
     "name": "stdout",
     "output_type": "stream",
     "text": [
      "4단\t\t5단\t\t6단\t\t\n",
      "4 * 1 = 4\t5 * 1 = 5\t6 * 1 = 6\t\n",
      "4 * 2 = 8\t5 * 2 = 10\t6 * 2 = 12\t\n",
      "4 * 3 = 12\t5 * 3 = 15\t6 * 3 = 18\t\n",
      "4 * 4 = 16\t5 * 4 = 20\t6 * 4 = 24\t\n",
      "4 * 5 = 20\t5 * 5 = 25\t6 * 5 = 30\t\n",
      "4 * 6 = 24\t5 * 6 = 30\t6 * 6 = 36\t\n",
      "4 * 7 = 28\t5 * 7 = 35\t6 * 7 = 42\t\n",
      "4 * 8 = 32\t5 * 8 = 40\t6 * 8 = 48\t\n",
      "\n",
      "7단\t\t8단\t\t9단\t\t\n",
      "7 * 1 = 7\t8 * 1 = 8\t9 * 1 = 9\t\n",
      "7 * 2 = 14\t8 * 2 = 16\t9 * 2 = 18\t\n",
      "7 * 3 = 21\t8 * 3 = 24\t9 * 3 = 27\t\n",
      "7 * 4 = 28\t8 * 4 = 32\t9 * 4 = 36\t\n",
      "7 * 5 = 35\t8 * 5 = 40\t9 * 5 = 45\t\n",
      "7 * 6 = 42\t8 * 6 = 48\t9 * 6 = 54\t\n",
      "7 * 7 = 49\t8 * 7 = 56\t9 * 7 = 63\t\n",
      "7 * 8 = 56\t8 * 8 = 64\t9 * 8 = 72\t\n",
      "\n",
      "10단\t\t11단\t\t12단\t\t\n",
      "10 * 1 = 10\t11 * 1 = 11\t12 * 1 = 12\t\n",
      "10 * 2 = 20\t11 * 2 = 22\t12 * 2 = 24\t\n",
      "10 * 3 = 30\t11 * 3 = 33\t12 * 3 = 36\t\n",
      "10 * 4 = 40\t11 * 4 = 44\t12 * 4 = 48\t\n",
      "10 * 5 = 50\t11 * 5 = 55\t12 * 5 = 60\t\n",
      "10 * 6 = 60\t11 * 6 = 66\t12 * 6 = 72\t\n",
      "10 * 7 = 70\t11 * 7 = 77\t12 * 7 = 84\t\n",
      "10 * 8 = 80\t11 * 8 = 88\t12 * 8 = 96\t\n",
      "\n"
     ]
    }
   ],
   "source": [
    "# (번외) a단부터 M개 씩 N줄의 구구단 출력\n",
    "a, N, M = map(int, input().split(' '))\n",
    "\n",
    "for n in range(a,a+(M+N),M):\n",
    "    for j in range(0,9):\n",
    "        for i in range(M):\n",
    "            if j == 0:\n",
    "                print(f'{n+i}단', end='\\t\\t')\n",
    "            else:\n",
    "                print(f\"{n+i} * {j} = {(n+i)*j}\", end='\\t')\n",
    "        print()\n",
    "    print()"
   ]
  },
  {
   "cell_type": "code",
   "execution_count": 56,
   "metadata": {},
   "outputs": [
    {
     "ename": "ValueError",
     "evalue": "invalid literal for int() with base 10: ''",
     "output_type": "error",
     "traceback": [
      "\u001b[1;31m---------------------------------------------------------------------------\u001b[0m",
      "\u001b[1;31mValueError\u001b[0m                                Traceback (most recent call last)",
      "Cell \u001b[1;32mIn[56], line 2\u001b[0m\n\u001b[0;32m      1\u001b[0m \u001b[39m# 2741\u001b[39;00m\n\u001b[1;32m----> 2\u001b[0m N \u001b[39m=\u001b[39m \u001b[39mint\u001b[39;49m(\u001b[39minput\u001b[39;49m())\n\u001b[0;32m      3\u001b[0m \u001b[39mfor\u001b[39;00m n \u001b[39min\u001b[39;00m \u001b[39mrange\u001b[39m(N):\n\u001b[0;32m      4\u001b[0m     \u001b[39mprint\u001b[39m(\u001b[39mstr\u001b[39m(n\u001b[39m+\u001b[39m\u001b[39m1\u001b[39m))\n",
      "\u001b[1;31mValueError\u001b[0m: invalid literal for int() with base 10: ''"
     ]
    }
   ],
   "source": [
    "# 2741\n",
    "N = int(input())\n",
    "for n in range(N):\n",
    "    print(str(n+1))"
   ]
  },
  {
   "cell_type": "code",
   "execution_count": null,
   "metadata": {},
   "outputs": [],
   "source": [
    "# 2743\n",
    "word = str(input())\n",
    "print(len(word))"
   ]
  },
  {
   "cell_type": "code",
   "execution_count": 68,
   "metadata": {},
   "outputs": [
    {
     "name": "stdout",
     "output_type": "stream",
     "text": [
      "wRONGaNSWER\n"
     ]
    }
   ],
   "source": [
    "# 2744\n",
    "word = str(input())\n",
    "result = ''\n",
    "for w in word:\n",
    "    if w.isupper():\n",
    "        result += w.lower()\n",
    "    else:\n",
    "        result += w.upper()\n",
    "print(result)"
   ]
  },
  {
   "cell_type": "code",
   "execution_count": null,
   "metadata": {},
   "outputs": [],
   "source": [
    "# 2744 - 위 코드와 처리 시간은 같음\n",
    "word = str(input())\n",
    "print(word.swapcase())"
   ]
  },
  {
   "cell_type": "code",
   "execution_count": 73,
   "metadata": {},
   "outputs": [
    {
     "name": "stdout",
     "output_type": "stream",
     "text": [
      "0\n"
     ]
    }
   ],
   "source": [
    "# 2753\n",
    "year = int(input())\n",
    "a = 0\n",
    "if year%4 == 0:\n",
    "    if year%100 != 0 or year%400 == 0:\n",
    "        a = 1\n",
    "print(a)"
   ]
  },
  {
   "cell_type": "code",
   "execution_count": 74,
   "metadata": {},
   "outputs": [
    {
     "name": "stdout",
     "output_type": "stream",
     "text": [
      "4.0\n"
     ]
    }
   ],
   "source": [
    "# 2754\n",
    "S = str(input())\n",
    "score = {\n",
    "'A+': 4.3, 'A0': 4.0, 'A-': 3.7,\n",
    "'B+': 3.3, 'B0': 3.0, 'B-': 2.7,\n",
    "'C+': 2.3, 'C0': 2.0, 'C-': 1.7,\n",
    "'D+': 1.3, 'D0': 1.0, 'D-': 0.7,\n",
    "'F': 0.0}\n",
    "print(score[S])"
   ]
  },
  {
   "cell_type": "code",
   "execution_count": 76,
   "metadata": {},
   "outputs": [
    {
     "name": "stdout",
     "output_type": "stream",
     "text": [
      "-1 0 0 1 0 7\n"
     ]
    }
   ],
   "source": [
    "# 3003\n",
    "pieces = [1,1,2,2,2,8]\n",
    "input_pieces = list(map(int, input().split(' ')))\n",
    "for i in range(len(pieces)):\n",
    "    pieces[i] -= input_pieces[i]\n",
    "print(' '.join(map(str, pieces)))"
   ]
  },
  {
   "cell_type": "code",
   "execution_count": 93,
   "metadata": {},
   "outputs": [
    {
     "name": "stdout",
     "output_type": "stream",
     "text": [
      "50\n"
     ]
    }
   ],
   "source": [
    "# 3733\n",
    "while True:\n",
    "    try:\n",
    "        N, S = map(int, input().split(' '))\n",
    "    except:\n",
    "        break\n",
    "    else:\n",
    "        x = S//(N+1)\n",
    "        print(x)"
   ]
  },
  {
   "cell_type": "code",
   "execution_count": 95,
   "metadata": {},
   "outputs": [
    {
     "name": "stdout",
     "output_type": "stream",
     "text": [
      "No\n",
      "No\n",
      "Yes\n"
     ]
    }
   ],
   "source": [
    "# 4101\n",
    "while True:\n",
    "    try:\n",
    "        a, b = map(int, input().split(' '))\n",
    "    except:\n",
    "        break\n",
    "    if a == 0 and b == 0:\n",
    "        break\n",
    "    else:\n",
    "        if a > b:\n",
    "            print('Yes')\n",
    "        else:\n",
    "            print('No')"
   ]
  },
  {
   "cell_type": "code",
   "execution_count": 3,
   "metadata": {},
   "outputs": [
    {
     "name": "stdout",
     "output_type": "stream",
     "text": [
      "go\n"
     ]
    }
   ],
   "source": [
    "# 4999\n",
    "Jae = str(input())\n",
    "Doc = str(input())\n",
    "x = 'no'\n",
    "for j in range(len(Jae)):\n",
    "    if Doc[j] == 'h':\n",
    "        x = 'go'\n",
    "        break\n",
    "print(x)  \n"
   ]
  },
  {
   "cell_type": "code",
   "execution_count": 6,
   "metadata": {},
   "outputs": [
    {
     "name": "stdout",
     "output_type": "stream",
     "text": [
      ".  .   .\n",
      "|  | _ | _. _ ._ _  _\n",
      "|/\\|(/.|(_.(_)[ | )(/.\n"
     ]
    }
   ],
   "source": [
    "# 5337\n",
    "print(\".  .   .\")\n",
    "print(\"|  | _ | _. _ ._ _  _\")\n",
    "print(\"|/\\\\|(/.|(_.(_)[ | )(/.\")\n"
   ]
  },
  {
   "cell_type": "code",
   "execution_count": 17,
   "metadata": {},
   "outputs": [
    {
     "name": "stdout",
     "output_type": "stream",
     "text": [
      "     /~\\ \n",
      "    ( oo| \n",
      "    _\\=/_ \n",
      "   /  _  \\ \n",
      "  //|/.\\|\\\\ \n",
      " ||  \\ /  || \n",
      "============ \n",
      "|          | \n",
      "|          | \n",
      "|          |\n",
      " "
     ]
    }
   ],
   "source": [
    "# 5339\n",
    "x = \"\"\"     /~\\\\,\n",
    "    ( oo|,\n",
    "    _\\\\=/_,\n",
    "   /  _  \\,\n",
    "  //|/.\\\\|\\\\\\\\,\n",
    " ||  \\\\ /  ||,\n",
    "============,\n",
    "|          |,\n",
    "|          |,\n",
    "|          |\n",
    "\"\"\"\n",
    "for _ in x.split(','):\n",
    "    print(_ ,end=' ')"
   ]
  },
  {
   "cell_type": "code",
   "execution_count": 21,
   "metadata": {},
   "outputs": [
    {
     "name": "stdout",
     "output_type": "stream",
     "text": [
      "10\n",
      "21\n"
     ]
    }
   ],
   "source": [
    "# 5341\n",
    "while True:\n",
    "    try:\n",
    "        N = int(input())\n",
    "    except:\n",
    "        break\n",
    "    if N == 0:\n",
    "        break\n",
    "    else:\n",
    "        x = 0\n",
    "        for n in range(N):\n",
    "            for m in range(n+1):\n",
    "                x +=1\n",
    "        print(x)"
   ]
  },
  {
   "cell_type": "code",
   "execution_count": 23,
   "metadata": {},
   "outputs": [
    {
     "name": "stdout",
     "output_type": "stream",
     "text": [
      "15\n"
     ]
    }
   ],
   "source": [
    "# 5522\n",
    "A_list =[]\n",
    "while True:\n",
    "    try:\n",
    "        A_list.append(int(input()))\n",
    "    except:\n",
    "        break\n",
    "print(sum(A_list))"
   ]
  },
  {
   "cell_type": "code",
   "execution_count": 26,
   "metadata": {},
   "outputs": [
    {
     "name": "stdout",
     "output_type": "stream",
     "text": [
      "2\n",
      "8\n"
     ]
    }
   ],
   "source": [
    "# 5597\n",
    "Stdent_list =[1 for _ in range(30)]\n",
    "while True:\n",
    "    try:\n",
    "        Stdent_list[int(input())-1] = 0\n",
    "    except:\n",
    "        break\n",
    "for s in range(len(Stdent_list)):\n",
    "    if Stdent_list[s] == 1:\n",
    "        print(s+1)"
   ]
  },
  {
   "cell_type": "code",
   "execution_count": 28,
   "metadata": {},
   "outputs": [
    {
     "name": "stdout",
     "output_type": "stream",
     "text": [
      "8\n"
     ]
    }
   ],
   "source": [
    "# 6840\n",
    "Bears =[]\n",
    "while True:\n",
    "    try:\n",
    "        Bears.append(int(input()))\n",
    "    except:\n",
    "        break\n",
    "print(sorted(Bears)[(len(Bears)//2)])"
   ]
  }
 ],
 "metadata": {
  "kernelspec": {
   "display_name": "Python 3",
   "language": "python",
   "name": "python3"
  },
  "language_info": {
   "codemirror_mode": {
    "name": "ipython",
    "version": 3
   },
   "file_extension": ".py",
   "mimetype": "text/x-python",
   "name": "python",
   "nbconvert_exporter": "python",
   "pygments_lexer": "ipython3",
   "version": "3.10.6"
  },
  "orig_nbformat": 4
 },
 "nbformat": 4,
 "nbformat_minor": 2
}
