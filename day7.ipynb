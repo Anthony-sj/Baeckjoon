{
 "cells": [
  {
   "cell_type": "code",
   "execution_count": 4,
   "metadata": {},
   "outputs": [
    {
     "name": "stdout",
     "output_type": "stream",
     "text": [
      "588107520\n"
     ]
    }
   ],
   "source": [
    "# 28352\n",
    "N = int(input())\n",
    "result = 6\n",
    "for n in range(10,N+1):\n",
    "    result*=(n)\n",
    "print(result//10)"
   ]
  },
  {
   "cell_type": "code",
   "execution_count": null,
   "metadata": {},
   "outputs": [],
   "source": [
    "# 28290\n",
    "S = str(input())\n",
    "if S == \"fdsajkl;\" or S == \"jkl;fdsa\":\n",
    "    print('in-out')\n",
    "elif S == \"asdf;lkj\" or S == \";lkjasdf\":\n",
    "    print('out-in')\n",
    "elif S == \"asdfjkl;\":\n",
    "    print('stairs')\n",
    "elif S == ';lkjfdsa':\n",
    "    print('reverse')\n",
    "else:\n",
    "    print('molu')"
   ]
  },
  {
   "cell_type": "code",
   "execution_count": 9,
   "metadata": {},
   "outputs": [
    {
     "name": "stdout",
     "output_type": "stream",
     "text": [
      "in-out\n"
     ]
    }
   ],
   "source": [
    "a='asdf;lkjasdfjkl;;lkjfdsafdsajkl;fdsa'.find(input())\n",
    "print(['out-in','stairs','reverse','in-out','molu'][a//8 or -(a%4>0)])"
   ]
  },
  {
   "cell_type": "code",
   "execution_count": null,
   "metadata": {},
   "outputs": [],
   "source": [
    "# 24723\n",
    "print(2**int(input()))"
   ]
  },
  {
   "cell_type": "code",
   "execution_count": 13,
   "metadata": {},
   "outputs": [
    {
     "name": "stdout",
     "output_type": "stream",
     "text": [
      "Naver D2\n"
     ]
    }
   ],
   "source": [
    "# 24883\n",
    "print('Naver D2' if (input()).upper() == 'N' else 'Naver Whale')"
   ]
  },
  {
   "cell_type": "code",
   "execution_count": 16,
   "metadata": {},
   "outputs": [
    {
     "name": "stdout",
     "output_type": "stream",
     "text": [
      "Naver D2\n"
     ]
    }
   ],
   "source": [
    "print(['Naver Whale','Naver D2'][input().upper() == 'N'])"
   ]
  },
  {
   "cell_type": "code",
   "execution_count": 22,
   "metadata": {},
   "outputs": [
    {
     "name": "stdout",
     "output_type": "stream",
     "text": [
      "3\n"
     ]
    }
   ],
   "source": [
    "# 25191\n",
    "C,(A,B) = int(input()), map(int,input().split(' '))\n",
    "D = A//2+B\n",
    "print(C if D >= C else D)"
   ]
  },
  {
   "cell_type": "code",
   "execution_count": 25,
   "metadata": {},
   "outputs": [
    {
     "name": "stdout",
     "output_type": "stream",
     "text": [
      "1\n"
     ]
    }
   ],
   "source": [
    "# 25238\n",
    "a,b = map(int, input().split(' '))\n",
    "print(1 if a*(100-b)< 100**2 else 0)"
   ]
  },
  {
   "cell_type": "code",
   "execution_count": 29,
   "metadata": {},
   "outputs": [
    {
     "name": "stdout",
     "output_type": "stream",
     "text": [
      "2\n"
     ]
    }
   ],
   "source": [
    "# 25628\n",
    "a, b = map(int, input().split(' '))\n",
    "print(a//2 if a//2 <= b else b)"
   ]
  },
  {
   "cell_type": "code",
   "execution_count": null,
   "metadata": {},
   "outputs": [],
   "source": []
  },
  {
   "cell_type": "code",
   "execution_count": 41,
   "metadata": {},
   "outputs": [
    {
     "name": "stdout",
     "output_type": "stream",
     "text": [
      "0\n"
     ]
    }
   ],
   "source": [
    "# 25704\n",
    "N , P = int(input()), int(input())\n",
    "A = max([0,500, P*0.1, 2000, P*0.25, P*0.25, P*0.25][:N//5+1])\n",
    "print(int(P-A) if P-A >0 else 0)"
   ]
  },
  {
   "cell_type": "code",
   "execution_count": 45,
   "metadata": {},
   "outputs": [
    {
     "name": "stdout",
     "output_type": "stream",
     "text": [
      "3\n"
     ]
    }
   ],
   "source": [
    "# 26068\n",
    "x = 0\n",
    "for _ in range(int(input())):\n",
    "    S = input().replace('D-', '')\n",
    "    if int(S) <= 90:\n",
    "        x+=1\n",
    "print(x)"
   ]
  },
  {
   "cell_type": "code",
   "execution_count": 53,
   "metadata": {},
   "outputs": [
    {
     "name": "stdout",
     "output_type": "stream",
     "text": [
      "15\n"
     ]
    }
   ],
   "source": [
    "# 27110\n",
    "N = int(input())\n",
    "A = list(map(int, input().split(' ')))\n",
    "x = [a%N if a<N else N for a in A]\n",
    "print(sum(x))"
   ]
  },
  {
   "cell_type": "code",
   "execution_count": 56,
   "metadata": {},
   "outputs": [
    {
     "name": "stdout",
     "output_type": "stream",
     "text": [
      "347\n"
     ]
    }
   ],
   "source": [
    "# 1085\n",
    "x, y, w, h = map(int, input().split(' '))\n",
    "print(min([x, w-x][x>w/2], [y, h-y][y>h/2]))"
   ]
  },
  {
   "cell_type": "code",
   "execution_count": null,
   "metadata": {},
   "outputs": [],
   "source": [
    "x,y,w,h = map(int,input().split())\n",
    "print(min(x,y,w-x,h-y))"
   ]
  },
  {
   "cell_type": "code",
   "execution_count": 65,
   "metadata": {},
   "outputs": [
    {
     "name": "stdout",
     "output_type": "stream",
     "text": [
      "0\n"
     ]
    }
   ],
   "source": [
    "import sys\n",
    "input = sys.stdin.readline\n",
    "while True:\n",
    "    try:\n",
    "        x = sum([int(input()) for _ in range(int(input()))])\n",
    "    except:\n",
    "        break\n",
    "    print([str(x)[0],'+'][x>0])"
   ]
  },
  {
   "cell_type": "code",
   "execution_count": 86,
   "metadata": {},
   "outputs": [
    {
     "name": "stdout",
     "output_type": "stream",
     "text": [
      "Y 40\n"
     ]
    }
   ],
   "source": [
    "# 1267\n",
    "N = int(input())\n",
    "A = list(map(int, input().split(' ')))\n",
    "Y, M = 0, 0\n",
    "for a in A:\n",
    "    Y += 10*(a//30 + (a%30<=59))\n",
    "    M += 15*(a//60 + (a%60<=59))\n",
    "print('Y '*(Y<=M) +'M '*(M<=Y) + str(Y if Y<=M else M))"
   ]
  },
  {
   "cell_type": "code",
   "execution_count": 89,
   "metadata": {},
   "outputs": [
    {
     "name": "stdout",
     "output_type": "stream",
     "text": [
      "1\n",
      "1\n",
      "1\n",
      "1\n",
      "1\n"
     ]
    }
   ],
   "source": [
    "# 1284\n",
    "while True:\n",
    "    try:\n",
    "        N = input()        \n",
    "    except:\n",
    "        break\n",
    "    if N == '0':\n",
    "        break\n",
    "    x = 1\n",
    "    for n in N:\n",
    "        x += [2,3,4][(n not in '1')+(n in '0')]\n",
    "        x += 1\n",
    "    print(x)"
   ]
  },
  {
   "cell_type": "code",
   "execution_count": 94,
   "metadata": {},
   "outputs": [
    {
     "name": "stdout",
     "output_type": "stream",
     "text": [
      "1\n"
     ]
    }
   ],
   "source": [
    "# 1547\n",
    "cups = [1,2,3]\n",
    "ball = 0\n",
    "for _ in range(int(input())):\n",
    "    x, y = map(int, input().split(' '))\n",
    "    if cups[ball] in (x,y):\n",
    "        ball = (x if cups[ball] == y else y)-1\n",
    "print(cups[ball] if ball in (0,1,2) else -1)"
   ]
  },
  {
   "cell_type": "code",
   "execution_count": null,
   "metadata": {},
   "outputs": [],
   "source": [
    "ball = 1\n",
    "for _ in range(int(input())):\n",
    "    x, y = map(int, input().split(' '))\n",
    "    if x == ball: ball = y\n",
    "    elif y == ball: ball = x\n",
    "print(ball)"
   ]
  },
  {
   "cell_type": "code",
   "execution_count": 113,
   "metadata": {},
   "outputs": [
    {
     "name": "stdout",
     "output_type": "stream",
     "text": [
      "8\n"
     ]
    }
   ],
   "source": [
    "# 1598\n",
    "a,b = map(int, input().split(' '))\n",
    "print(abs((a-1)//4 - (b-1)//4) + abs((a-1)%4-(b-1)%4))"
   ]
  },
  {
   "cell_type": "code",
   "execution_count": 118,
   "metadata": {},
   "outputs": [
    {
     "name": "stdout",
     "output_type": "stream",
     "text": [
      "7\n"
     ]
    }
   ],
   "source": [
    "a,b = map(int, input().split(' '))\n",
    "print(abs(~-a//4-~-b//4)+abs(~-a%4-~-b%4))"
   ]
  },
  {
   "cell_type": "code",
   "execution_count": 2,
   "metadata": {},
   "outputs": [
    {
     "name": "stdout",
     "output_type": "stream",
     "text": [
      "489\n"
     ]
    }
   ],
   "source": [
    "# 1703\n",
    "while True:\n",
    "    try:\n",
    "        a = list(map(int, input().split()))\n",
    "    except:\n",
    "        break\n",
    "    if a == [0]:\n",
    "        break\n",
    "    x = 1\n",
    "    for i in range(len(a)//2):\n",
    "        x*= a[2*i+1]\n",
    "        x-= a[2*i+2]\n",
    "    print(x)"
   ]
  },
  {
   "cell_type": "code",
   "execution_count": 10,
   "metadata": {},
   "outputs": [
    {
     "name": "stdout",
     "output_type": "stream",
     "text": [
      "GOOD\n"
     ]
    }
   ],
   "source": [
    "# 1837\n",
    "P,K = map(int, input().split())\n",
    "ans = 'GOOD'\n",
    "sieve = [1]*K\n",
    "for i in range(2,K):\n",
    "    if sieve[i] == 1:\n",
    "        for j in range(i+i,K,i):\n",
    "            sieve[j] = 0\n",
    "primes = [l for l in range(2,K) if sieve[l] == 1]\n",
    "for x in primes:\n",
    "    if P%x == 0:\n",
    "        ans = 'BAD ' + str(x)\n",
    "        break\n",
    "print(ans)"
   ]
  },
  {
   "cell_type": "code",
   "execution_count": 18,
   "metadata": {},
   "outputs": [
    {
     "name": "stdout",
     "output_type": "stream",
     "text": [
      "2\n",
      "1\n",
      "12\n"
     ]
    }
   ],
   "source": [
    "# 2010\n",
    "import sys\n",
    "input = sys.stdin.readline\n",
    "a =int(input())\n",
    "x=0\n",
    "for b in range(a,0,-1):\n",
    "    x += int(input()) -(~-b>0)\n",
    "print(x)"
   ]
  },
  {
   "cell_type": "code",
   "execution_count": 20,
   "metadata": {},
   "outputs": [
    {
     "name": "stdout",
     "output_type": "stream",
     "text": [
      "BAD 11\n"
     ]
    }
   ],
   "source": [
    "# 2061\n",
    "P,K = map(int, input().split())\n",
    "sieve = [1]*K\n",
    "for i in range(2,K):\n",
    "    if sieve[i] == 1:\n",
    "        for j in range(i+i,K,i):\n",
    "            sieve[j] = 0\n",
    "primes = [l for l in range(2,K) if sieve[l] == 1]\n",
    "ans = 'GOOD'\n",
    "for a in primes:\n",
    "    if P%a == 0 and a<K:\n",
    "        ans = 'BAD '+str(a)\n",
    "        break\n",
    "print(ans)"
   ]
  },
  {
   "cell_type": "code",
   "execution_count": 22,
   "metadata": {},
   "outputs": [
    {
     "name": "stdout",
     "output_type": "stream",
     "text": [
      "*****\n",
      " ****\n",
      "  ***\n",
      "   **\n",
      "    *\n"
     ]
    }
   ],
   "source": [
    "# 2441\n",
    "A = int(input())\n",
    "for i in range(A):\n",
    "    print(' '*i+'*'*(A-i))"
   ]
  },
  {
   "cell_type": "code",
   "execution_count": 23,
   "metadata": {},
   "outputs": [
    {
     "name": "stdout",
     "output_type": "stream",
     "text": [
      "    *\n",
      "   ***\n",
      "  *****\n",
      " *******\n",
      "*********\n"
     ]
    }
   ],
   "source": [
    "# 2442\n",
    "A = int(input())\n",
    "for i in range(A):\n",
    "    print(' '*(A-i-1)+'*'*(2*i+1))"
   ]
  },
  {
   "cell_type": "code",
   "execution_count": 62,
   "metadata": {},
   "outputs": [
    {
     "name": "stdout",
     "output_type": "stream",
     "text": [
      "   *\n",
      "  ***\n",
      " *****\n",
      "*******\n",
      " *****\n",
      "  ***\n",
      "   *\n"
     ]
    }
   ],
   "source": [
    "# 2444\n",
    "A = int(input())\n",
    "for i in range(2*A-1):\n",
    "    print(' '*abs(A-(i+1))+'*'*(2*i+1 if i<A else 2*i+1-4*(i%A+1)))"
   ]
  },
  {
   "cell_type": "code",
   "execution_count": 65,
   "metadata": {},
   "outputs": [
    {
     "name": "stdout",
     "output_type": "stream",
     "text": [
      "*        *\n",
      "**      **\n",
      "***    ***\n",
      "****  ****\n",
      "**********\n",
      "****  ****\n",
      "***    ***\n",
      "**      **\n",
      "*        *\n"
     ]
    }
   ],
   "source": [
    "# 2445\n",
    "A = int(input())\n",
    "for i in range(2*A-1):\n",
    "    print(['*'*(i+1)+' '*2*abs(A-(i+1))+'*'*(i+1), '*'*(A-i%A-1)+' '*2*(i%A+1)+'*'*(A-i%A-1)][i>=A])"
   ]
  },
  {
   "cell_type": "code",
   "execution_count": 66,
   "metadata": {},
   "outputs": [
    {
     "name": "stdout",
     "output_type": "stream",
     "text": [
      "42\n"
     ]
    }
   ],
   "source": [
    "# 2455\n",
    "x = 0\n",
    "A = []\n",
    "for _ in range(4):\n",
    "    a,b = map(int, input().split())\n",
    "    x += b-a\n",
    "    A.append(x)\n",
    "print(max(A))"
   ]
  },
  {
   "cell_type": "code",
   "execution_count": null,
   "metadata": {},
   "outputs": [],
   "source": [
    "R=[0]\n",
    "for i in range(4):\n",
    "    a,b=map(int,input().split())\n",
    "    R.append(R[i]-a+b)\n",
    "print(max(R))"
   ]
  },
  {
   "cell_type": "code",
   "execution_count": null,
   "metadata": {},
   "outputs": [],
   "source": []
  }
 ],
 "metadata": {
  "kernelspec": {
   "display_name": "Python 3",
   "language": "python",
   "name": "python3"
  },
  "language_info": {
   "codemirror_mode": {
    "name": "ipython",
    "version": 3
   },
   "file_extension": ".py",
   "mimetype": "text/x-python",
   "name": "python",
   "nbconvert_exporter": "python",
   "pygments_lexer": "ipython3",
   "version": "3.10.6"
  },
  "orig_nbformat": 4
 },
 "nbformat": 4,
 "nbformat_minor": 2
}
