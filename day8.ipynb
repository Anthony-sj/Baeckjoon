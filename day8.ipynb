{
 "cells": [
  {
   "cell_type": "code",
   "execution_count": 1,
   "metadata": {},
   "outputs": [
    {
     "name": "stdout",
     "output_type": "stream",
     "text": [
      "42\n"
     ]
    }
   ],
   "source": [
    "# 2460\n",
    "A = [0]\n",
    "for i in range(10):\n",
    "    a,b = map(int, input().split())\n",
    "    A.append(A[i]+(b-a))\n",
    "print(max(A))"
   ]
  },
  {
   "cell_type": "code",
   "execution_count": 13,
   "metadata": {},
   "outputs": [
    {
     "name": "stdout",
     "output_type": "stream",
     "text": [
      "12000\n"
     ]
    }
   ],
   "source": [
    "# 2476\n",
    "A = []\n",
    "for _ in range(int(input())):\n",
    "    a,b,c = map(int, input().split())\n",
    "    x = (a==b and b ==c) + (a==b or b==c or c==a)\n",
    "    A.append((10*(x>0) + sorted([a,b,c])[2-x])*int('1'+'0'*(x+1 if x>0 else 2)))\n",
    "print(max(A))"
   ]
  },
  {
   "cell_type": "code",
   "execution_count": 19,
   "metadata": {},
   "outputs": [
    {
     "name": "stdout",
     "output_type": "stream",
     "text": [
      "A\n",
      "E\n",
      "B\n"
     ]
    }
   ],
   "source": [
    "# 2490\n",
    "A = ['D','C','B','A','E']\n",
    "for _ in range(3):    \n",
    "    print(A[sum(map(int, input().split()))])"
   ]
  },
  {
   "cell_type": "code",
   "execution_count": 22,
   "metadata": {},
   "outputs": [
    {
     "name": "stdout",
     "output_type": "stream",
     "text": [
      "1\n"
     ]
    }
   ],
   "source": [
    "# 2501\n",
    "N,K = map(int, input().split())\n",
    "x = []\n",
    "for i in range(N):\n",
    "    if N%(i+1) == 0:\n",
    "        x.append(i+1)\n",
    "print(sorted(x)[K-1] if K<=len(x) else 0)"
   ]
  },
  {
   "cell_type": "code",
   "execution_count": 29,
   "metadata": {},
   "outputs": [
    {
     "name": "stdout",
     "output_type": "stream",
     "text": [
      "10\n"
     ]
    }
   ],
   "source": [
    "# 2605\n",
    "X = int(input())\n",
    "Y = list(map(int, input().split()))\n",
    "idx = -1\n",
    "for x in range(X):\n",
    "    if Y[x] == 0:\n",
    "        idx = x\n",
    "    else:\n",
    "        Y[x] = x-idx\n",
    "print(sum(Y))"
   ]
  },
  {
   "cell_type": "code",
   "execution_count": 32,
   "metadata": {},
   "outputs": [
    {
     "name": "stdout",
     "output_type": "stream",
     "text": [
      "0 13\n"
     ]
    }
   ],
   "source": [
    "# 2525\n",
    "a , b = map(int, input().split())\n",
    "c = int(input())\n",
    "t = a*60+b+c\n",
    "print(((t)//60)%24, t%60)"
   ]
  },
  {
   "cell_type": "code",
   "execution_count": 43,
   "metadata": {},
   "outputs": [
    {
     "name": "stdout",
     "output_type": "stream",
     "text": [
      "YES\n",
      "NO\n"
     ]
    }
   ],
   "source": [
    "# 2547\n",
    "for _ in range(int(input())):\n",
    "    input()\n",
    "    x = int(input())\n",
    "    a = [int(input()) for j in range(x)]\n",
    "    print(['NO','YES'][sum(a)%len(a) == 0])"
   ]
  },
  {
   "cell_type": "code",
   "execution_count": 45,
   "metadata": {},
   "outputs": [
    {
     "name": "stdout",
     "output_type": "stream",
     "text": [
      "85\n",
      "8\n"
     ]
    }
   ],
   "source": [
    "# 2562\n",
    "idx = 0\n",
    "A = [0]\n",
    "for i in range(9):\n",
    "    x = int(input())\n",
    "    A.append(x)\n",
    "    if A[idx]<x:\n",
    "        idx = i+1\n",
    "print(max(A))\n",
    "print(idx)"
   ]
  },
  {
   "cell_type": "code",
   "execution_count": null,
   "metadata": {},
   "outputs": [],
   "source": [
    "a=[int(input()) for i in range(9)]\n",
    "print(max(a))\n",
    "print(a.index(max(a))+1)"
   ]
  },
  {
   "cell_type": "code",
   "execution_count": 54,
   "metadata": {},
   "outputs": [
    {
     "name": "stdout",
     "output_type": "stream",
     "text": [
      "3\n",
      "3\n"
     ]
    }
   ],
   "source": [
    "# 2576\n",
    "A = []\n",
    "for _ in range(7):\n",
    "    a = int(input())\n",
    "    if (a%2) != 0:\n",
    "        A.append(a)\n",
    "print('%d%s' % (sum(A),'\\n'+str(min(A))) if sum(A)!=0 else (-1))\n"
   ]
  },
  {
   "cell_type": "code",
   "execution_count": 56,
   "metadata": {},
   "outputs": [
    {
     "name": "stdout",
     "output_type": "stream",
     "text": [
      "2360\n",
      "3776\n",
      "1416\n",
      "181720\n"
     ]
    }
   ],
   "source": [
    "# 2588\n",
    "a,b = int(input()), input()\n",
    "for i in b[::-1]:\n",
    "    print(a*int(i))\n",
    "print(a*int(b))\n"
   ]
  },
  {
   "cell_type": "code",
   "execution_count": 69,
   "metadata": {},
   "outputs": [
    {
     "name": "stdout",
     "output_type": "stream",
     "text": [
      "2.2046 lb\n",
      "0.5084 g\n",
      "3.1752 kg\n"
     ]
    },
    {
     "ename": "ValueError",
     "evalue": "not enough values to unpack (expected 2, got 0)",
     "output_type": "error",
     "traceback": [
      "\u001b[1;31m---------------------------------------------------------------------------\u001b[0m",
      "\u001b[1;31mValueError\u001b[0m                                Traceback (most recent call last)",
      "Cell \u001b[1;32mIn[69], line 5\u001b[0m\n\u001b[0;32m      3\u001b[0m B \u001b[39m=\u001b[39m [\u001b[39m2.2046\u001b[39m, \u001b[39m0.4536\u001b[39m, \u001b[39m0.2542\u001b[39m, \u001b[39m3.7854\u001b[39m]\n\u001b[0;32m      4\u001b[0m \u001b[39mfor\u001b[39;00m _ \u001b[39min\u001b[39;00m \u001b[39mrange\u001b[39m(\u001b[39mint\u001b[39m(\u001b[39minput\u001b[39m())):\n\u001b[1;32m----> 5\u001b[0m     x,y \u001b[39m=\u001b[39m \u001b[39minput\u001b[39m()\u001b[39m.\u001b[39msplit()\n\u001b[0;32m      6\u001b[0m     i \u001b[39m=\u001b[39m A\u001b[39m.\u001b[39mindex(y)\n\u001b[0;32m      7\u001b[0m     \u001b[39mprint\u001b[39m(\u001b[39m'\u001b[39m\u001b[39m{:.4f}\u001b[39;00m\u001b[39m'\u001b[39m\u001b[39m.\u001b[39mformat(\u001b[39mfloat\u001b[39m(x)\u001b[39m*\u001b[39mB[i]) , A[i\u001b[39m+\u001b[39m(\u001b[39m1\u001b[39m \u001b[39mif\u001b[39;00m i\u001b[39m%\u001b[39m\u001b[39m2\u001b[39m \u001b[39m==\u001b[39m \u001b[39m0\u001b[39m \u001b[39melse\u001b[39;00m \u001b[39m-\u001b[39m\u001b[39m1\u001b[39m)])\n",
      "\u001b[1;31mValueError\u001b[0m: not enough values to unpack (expected 2, got 0)"
     ]
    }
   ],
   "source": [
    "# 2712\n",
    "A= ['kg', 'lb','l', 'g']\n",
    "B = [2.2046, 0.4536, 0.2642, 3.7854]\n",
    "for _ in range(int(input())):\n",
    "    x,y = input().split()\n",
    "    i = A.index(y)\n",
    "    print('{:.4f}'.format(float(x)*B[i]) , A[i+(1 if i%2 == 0 else -1)])"
   ]
  }
 ],
 "metadata": {
  "kernelspec": {
   "display_name": "Python 3",
   "language": "python",
   "name": "python3"
  },
  "language_info": {
   "codemirror_mode": {
    "name": "ipython",
    "version": 3
   },
   "file_extension": ".py",
   "mimetype": "text/x-python",
   "name": "python",
   "nbconvert_exporter": "python",
   "pygments_lexer": "ipython3",
   "version": "3.10.6"
  },
  "orig_nbformat": 4
 },
 "nbformat": 4,
 "nbformat_minor": 2
}
