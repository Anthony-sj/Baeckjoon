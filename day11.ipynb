{
 "cells": [
  {
   "cell_type": "code",
   "execution_count": 2,
   "metadata": {},
   "outputs": [],
   "source": [
    "# 4655\n",
    "import sys\n",
    "def input():\n",
    "    return sys.stdin.readline().rstrip()\n",
    "\n",
    "while 1:\n",
    "    try:\n",
    "        c = float(input())\n",
    "    except:\n",
    "        break\n",
    "    if c == 0.00:\n",
    "        break\n",
    "    n=0\n",
    "    x=0\n",
    "    while x<c:\n",
    "        n+=1\n",
    "        x+=1/(1+n)\n",
    "    print(f'{n} card(s)')"
   ]
  },
  {
   "cell_type": "code",
   "execution_count": 7,
   "metadata": {},
   "outputs": [
    {
     "name": "stdout",
     "output_type": "stream",
     "text": [
      "Cube = 6, Triple = (3,4,5)\n",
      "Cube = 12, Triple = (6,8,10)\n",
      "Cube = 18, Triple = (2,12,16)\n",
      "Cube = 18, Triple = (9,12,15)\n",
      "Cube = 19, Triple = (3,10,18)\n",
      "Cube = 20, Triple = (7,14,17)\n",
      "Cube = 24, Triple = (12,16,20)\n",
      "Cube = 25, Triple = (4,17,22)\n",
      "Cube = 27, Triple = (3,18,24)\n",
      "Cube = 28, Triple = (18,19,21)\n",
      "Cube = 29, Triple = (11,15,27)\n",
      "Cube = 30, Triple = (15,20,25)\n",
      "Cube = 36, Triple = (4,24,32)\n",
      "Cube = 36, Triple = (18,24,30)\n",
      "Cube = 38, Triple = (6,20,36)\n",
      "Cube = 40, Triple = (14,28,34)\n",
      "Cube = 41, Triple = (2,17,40)\n",
      "Cube = 41, Triple = (6,32,33)\n",
      "Cube = 42, Triple = (21,28,35)\n",
      "Cube = 44, Triple = (16,23,41)\n",
      "Cube = 45, Triple = (5,30,40)\n",
      "Cube = 46, Triple = (3,36,37)\n",
      "Cube = 46, Triple = (27,30,37)\n",
      "Cube = 48, Triple = (24,32,40)\n",
      "Cube = 50, Triple = (8,34,44)\n",
      "Cube = 53, Triple = (29,34,44)\n",
      "Cube = 54, Triple = (6,36,48)\n",
      "Cube = 54, Triple = (12,19,53)\n",
      "Cube = 54, Triple = (27,36,45)\n",
      "Cube = 56, Triple = (36,38,42)\n",
      "Cube = 57, Triple = (9,30,54)\n",
      "Cube = 58, Triple = (15,42,49)\n",
      "Cube = 58, Triple = (22,30,54)\n",
      "Cube = 60, Triple = (21,42,51)\n",
      "Cube = 60, Triple = (30,40,50)\n",
      "Cube = 63, Triple = (7,42,56)\n",
      "Cube = 66, Triple = (33,44,55)\n",
      "Cube = 67, Triple = (22,51,54)\n",
      "Cube = 69, Triple = (36,38,61)\n",
      "Cube = 70, Triple = (7,54,57)\n",
      "Cube = 71, Triple = (14,23,70)\n",
      "Cube = 72, Triple = (8,48,64)\n",
      "Cube = 72, Triple = (34,39,65)\n",
      "Cube = 72, Triple = (36,48,60)\n",
      "Cube = 75, Triple = (12,51,66)\n",
      "Cube = 75, Triple = (38,43,66)\n",
      "Cube = 76, Triple = (12,40,72)\n",
      "Cube = 76, Triple = (31,33,72)\n",
      "Cube = 78, Triple = (39,52,65)\n",
      "Cube = 80, Triple = (28,56,68)\n",
      "Cube = 81, Triple = (9,54,72)\n",
      "Cube = 81, Triple = (25,48,74)\n",
      "Cube = 82, Triple = (4,34,80)\n",
      "Cube = 82, Triple = (12,64,66)\n",
      "Cube = 82, Triple = (19,60,69)\n",
      "Cube = 84, Triple = (28,53,75)\n",
      "Cube = 84, Triple = (42,56,70)\n",
      "Cube = 84, Triple = (54,57,63)\n",
      "Cube = 85, Triple = (50,61,64)\n",
      "Cube = 87, Triple = (20,54,79)\n",
      "Cube = 87, Triple = (26,55,78)\n",
      "Cube = 87, Triple = (33,45,81)\n",
      "Cube = 87, Triple = (38,48,79)\n",
      "Cube = 88, Triple = (21,43,84)\n",
      "Cube = 88, Triple = (25,31,86)\n",
      "Cube = 88, Triple = (32,46,82)\n",
      "Cube = 89, Triple = (17,40,86)\n",
      "Cube = 90, Triple = (10,60,80)\n",
      "Cube = 90, Triple = (25,38,87)\n",
      "Cube = 90, Triple = (45,60,75)\n",
      "Cube = 90, Triple = (58,59,69)\n",
      "Cube = 92, Triple = (6,72,74)\n",
      "Cube = 92, Triple = (54,60,74)\n",
      "Cube = 93, Triple = (32,54,85)\n",
      "Cube = 95, Triple = (15,50,90)\n",
      "Cube = 96, Triple = (19,53,90)\n",
      "Cube = 96, Triple = (48,64,80)\n",
      "Cube = 97, Triple = (45,69,79)\n",
      "Cube = 99, Triple = (11,66,88)\n",
      "Cube = 100, Triple = (16,68,88)\n",
      "Cube = 100, Triple = (35,70,85)\n"
     ]
    }
   ],
   "source": [
    "# 4690\n",
    "for a in range(5,100+1):\n",
    "    for b in range(2,a-2):\n",
    "           for c in range(b+1,a-1):\n",
    "                for d in range(c+1,a):\n",
    "                    if a**3 == b**3+c**3+d**3:\n",
    "                        print(f\"Cube = {a}, Triple = ({b},{c},{d})\")"
   ]
  },
  {
   "cell_type": "code",
   "execution_count": 8,
   "metadata": {},
   "outputs": [
    {
     "name": "stdout",
     "output_type": "stream",
     "text": [
      "mada m'i ,madam\n"
     ]
    }
   ],
   "source": [
    "# 4740\n",
    "while 1:\n",
    "    try:\n",
    "        t = input()\n",
    "    except:\n",
    "        break\n",
    "    if t == \"***\":\n",
    "        break\n",
    "    print(t[::-1])"
   ]
  },
  {
   "cell_type": "code",
   "execution_count": 18,
   "metadata": {},
   "outputs": [
    {
     "name": "stdout",
     "output_type": "stream",
     "text": [
      "No positions\n",
      "No positions\n",
      "Wide Receiver Quarterback\n"
     ]
    }
   ],
   "source": [
    "# 4758\n",
    "Ss = [4.5, 6.0, 5.0]\n",
    "We = [150, 300, 200]\n",
    "St = [200, 500, 300]\n",
    "pos = ['Wide Receiver', 'Lineman', 'Quarterback']\n",
    "while 1:\n",
    "    try:\n",
    "        s, w, t = map(float, input().split())\n",
    "    except:\n",
    "        break\n",
    "    if s==w==t==0:\n",
    "        break\n",
    "    y =[]    \n",
    "    for x in range(3):\n",
    "        if eval(f'{s}<={Ss[x]}') and eval(f'{w}>={We[x]}') and eval(f'{t}>={St[x]}'): \n",
    "            y.append(pos[x])\n",
    "    print(('No positions', ' '.join(y))[len(y)!=0])"
   ]
  },
  {
   "cell_type": "code",
   "execution_count": 19,
   "metadata": {},
   "outputs": [],
   "source": [
    "# 4766\n",
    "import sys\n",
    "def input():\n",
    "    return sys.stdin.readline().rstrip()\n",
    "a = [0]\n",
    "x = 0\n",
    "while 1:\n",
    "    try:\n",
    "        b = float(input())\n",
    "    except:\n",
    "        break\n",
    "    if b == 999:\n",
    "        break\n",
    "    a.append(b)\n",
    "    if x > 0:\n",
    "        print('{:.2f}'.format(a[x+1]-a[x]))\n",
    "    x+=1"
   ]
  },
  {
   "cell_type": "code",
   "execution_count": 5,
   "metadata": {},
   "outputs": [
    {
     "name": "stdout",
     "output_type": "stream",
     "text": [
      "2.05\n"
     ]
    }
   ],
   "source": [
    "# 4806\n",
    "import sys\n",
    "def input():\n",
    "    return sys.stdin.readline().rstrip()\n",
    "x = 0\n",
    "while 1:\n",
    "    try:\n",
    "        a = input()\n",
    "    except:\n",
    "        break\n",
    "    if a == '':\n",
    "        break\n",
    "    x+=1  \n",
    "print(x)"
   ]
  },
  {
   "cell_type": "code",
   "execution_count": null,
   "metadata": {},
   "outputs": [],
   "source": [
    "import sys\n",
    "print(len(sys.stdin.readlines()))"
   ]
  },
  {
   "cell_type": "code",
   "execution_count": 21,
   "metadata": {},
   "outputs": [
    {
     "data": {
      "text/plain": [
       "2"
      ]
     },
     "execution_count": 21,
     "metadata": {},
     "output_type": "execute_result"
    }
   ],
   "source": [
    "# 87361\n",
    "import sys\n",
    "def input():\n",
    "    return sys.stdin.readline().rstrip()\n",
    "while 1:\n",
    "    try:\n",
    "        N,w,d,coins = map(int, input().split())\n",
    "    except:\n",
    "        break\n",
    "    a = sum([i for i in range(1,N)])*w - coins \n",
    "    print((a//d,N)[a==0])"
   ]
  },
  {
   "cell_type": "code",
   "execution_count": 13,
   "metadata": {},
   "outputs": [
    {
     "data": {
      "text/plain": [
       "31996000"
      ]
     },
     "execution_count": 13,
     "metadata": {},
     "output_type": "execute_result"
    }
   ],
   "source": [
    "# 4880\n",
    "import sys\n",
    "def input():\n",
    "    return sys.stdin.readline().rstrip()\n",
    "while 1:\n",
    "    try:\n",
    "        a,b,c = map(int, input().split())\n",
    "    except:\n",
    "        break\n",
    "    if a==b==c==0:\n",
    "        break\n",
    "    if a-b == b-c:\n",
    "        print('AP', c+(c-b))\n",
    "    else:\n",
    "        print('GP', c*(b//a))"
   ]
  },
  {
   "cell_type": "code",
   "execution_count": 24,
   "metadata": {},
   "outputs": [
    {
     "name": "stdout",
     "output_type": "stream",
     "text": [
      "1. odd 18\n",
      "2. even 19\n"
     ]
    }
   ],
   "source": [
    "# 4892\n",
    "import sys\n",
    "def input():\n",
    "    return sys.stdin.readline().rstrip()\n",
    "i = 1\n",
    "while 1:\n",
    "    try:\n",
    "        n0 = int(input())\n",
    "    except:\n",
    "        break\n",
    "    if n0 == 0:\n",
    "        break\n",
    "    x = n0%2\n",
    "    print(f'{i}. '+ ('even','odd')[x]+ f' {(n0-x)//2}')\n",
    "    i+=1"
   ]
  },
  {
   "cell_type": "code",
   "execution_count": 58,
   "metadata": {},
   "outputs": [
    {
     "name": "stdout",
     "output_type": "stream",
     "text": [
      "5.5\n",
      "6.\n",
      "0.\n"
     ]
    }
   ],
   "source": [
    "# 89045\n",
    "while 1:\n",
    "    try:\n",
    "        x = input()\n",
    "    except:\n",
    "        break\n",
    "    if x == '0 0 0 0 0 0':\n",
    "        break\n",
    "    a = sorted(list(map(int, x.split())))\n",
    "    print(f'{sum(a[1:5])/4}'.rstrip('0').rstrip('.'))\n",
    "    "
   ]
  },
  {
   "cell_type": "code",
   "execution_count": 61,
   "metadata": {},
   "outputs": [
    {
     "name": "stdout",
     "output_type": "stream",
     "text": [
      "4 => 13\n",
      "2 => 3\n"
     ]
    }
   ],
   "source": [
    "# 4922\n",
    "while 1:\n",
    "    try:\n",
    "        n = int(input())\n",
    "    except:\n",
    "        break\n",
    "    if n == 0:\n",
    "        break\n",
    "    x = [1]\n",
    "    for i in range(n+1):\n",
    "        x.append(x[i]+2*i)\n",
    "        if x[i+1] > n*n:\n",
    "            print(f'{n} => {x[i]}')"
   ]
  },
  {
   "cell_type": "code",
   "execution_count": null,
   "metadata": {},
   "outputs": [],
   "source": [
    "import sys\n",
    "\n",
    "while True:\n",
    "    N = int(sys.stdin.readline())\n",
    "    if N == 0: break\n",
    "    print(N,\"=>\",N**2-N+1)"
   ]
  },
  {
   "cell_type": "code",
   "execution_count": null,
   "metadata": {},
   "outputs": [],
   "source": [
    "# 5013\n",
    "x = 0\n",
    "for _ in range(int(input())):\n",
    "    a = input()\n",
    "    if not 'CD' in a:\n",
    "        x+=1\n",
    "print(x)"
   ]
  },
  {
   "cell_type": "code",
   "execution_count": 62,
   "metadata": {},
   "outputs": [
    {
     "ename": "ValueError",
     "evalue": "invalid literal for int() with base 10: ''",
     "output_type": "error",
     "traceback": [
      "\u001b[1;31m---------------------------------------------------------------------------\u001b[0m",
      "\u001b[1;31mValueError\u001b[0m                                Traceback (most recent call last)",
      "Cell \u001b[1;32mIn[62], line 2\u001b[0m\n\u001b[0;32m      1\u001b[0m \u001b[39m# 5063\u001b[39;00m\n\u001b[1;32m----> 2\u001b[0m \u001b[39mfor\u001b[39;00m _ \u001b[39min\u001b[39;00m \u001b[39mrange\u001b[39m(\u001b[39mint\u001b[39;49m(\u001b[39minput\u001b[39;49m())):\n\u001b[0;32m      3\u001b[0m     a, b, c \u001b[39m=\u001b[39m \u001b[39mmap\u001b[39m(\u001b[39mint\u001b[39m, \u001b[39minput\u001b[39m())\n\u001b[0;32m      4\u001b[0m     \u001b[39mprint\u001b[39m((\u001b[39m\"\u001b[39m\u001b[39madvertise\u001b[39m\u001b[39m\"\u001b[39m, \u001b[39m\"\u001b[39m\u001b[39mdo not advertise\u001b[39m\u001b[39m\"\u001b[39m, \u001b[39m\"\u001b[39m\u001b[39mdoes not matter\u001b[39m\u001b[39m\"\u001b[39m)[(a\u001b[39m<\u001b[39m\u001b[39m=\u001b[39mb\u001b[39m-\u001b[39mc)\u001b[39m+\u001b[39m(a\u001b[39m==\u001b[39mb\u001b[39m-\u001b[39mc)])\n",
      "\u001b[1;31mValueError\u001b[0m: invalid literal for int() with base 10: ''"
     ]
    }
   ],
   "source": [
    "# 5063\n",
    "import sys\n",
    "def input():\n",
    "    return sys.stdin.readline().rstrip()\n",
    "for _ in range(int(input())):\n",
    "    a, b, c = map(int, input().split())\n",
    "    print((\"advertise\", \"do not advertise\", \"does not matter\")[(a>=b-c)+(a==b-c)])"
   ]
  },
  {
   "cell_type": "code",
   "execution_count": 66,
   "metadata": {},
   "outputs": [
    {
     "name": "stdout",
     "output_type": "stream",
     "text": [
      "1 2 3\n",
      "1 2 3\n",
      "1 2 3\n"
     ]
    },
    {
     "ename": "ValueError",
     "evalue": "not enough values to unpack (expected 3, got 0)",
     "output_type": "error",
     "traceback": [
      "\u001b[1;31m---------------------------------------------------------------------------\u001b[0m",
      "\u001b[1;31mValueError\u001b[0m                                Traceback (most recent call last)",
      "Cell \u001b[1;32mIn[66], line 4\u001b[0m\n\u001b[0;32m      2\u001b[0m T \u001b[39m=\u001b[39m (\u001b[39m'\u001b[39m\u001b[39mEquilateral\u001b[39m\u001b[39m'\u001b[39m, \u001b[39m'\u001b[39m\u001b[39mIsosceles\u001b[39m\u001b[39m'\u001b[39m, \u001b[39m'\u001b[39m\u001b[39mScalene\u001b[39m\u001b[39m'\u001b[39m, \u001b[39m'\u001b[39m\u001b[39mInvalid\u001b[39m\u001b[39m'\u001b[39m) \n\u001b[0;32m      3\u001b[0m \u001b[39mwhile\u001b[39;00m \u001b[39m1\u001b[39m:\n\u001b[1;32m----> 4\u001b[0m     a,b,c \u001b[39m=\u001b[39m \u001b[39msorted\u001b[39m(\u001b[39mmap\u001b[39m(\u001b[39mint\u001b[39m,\u001b[39minput\u001b[39m()\u001b[39m.\u001b[39msplit()))\n\u001b[0;32m      5\u001b[0m     \u001b[39mprint\u001b[39m(a,b,c)\n",
      "\u001b[1;31mValueError\u001b[0m: not enough values to unpack (expected 3, got 0)"
     ]
    }
   ],
   "source": [
    "# 5073\n",
    "T = ('Equilateral', 'Isosceles', 'Scalene', 'Invalid')\n",
    "x = -1\n",
    "while 1:\n",
    "    a,b,c = sorted(map(int,input().split()))\n",
    "    if c<a+b:\n",
    "        x+=1\n",
    "        if c!=(a+b)/2:\n",
    "            x+=1\n",
    "            if a!=b:\n",
    "                x+=1\n",
    "    print(T[x])"
   ]
  },
  {
   "cell_type": "code",
   "execution_count": 13,
   "metadata": {},
   "outputs": [
    {
     "data": {
      "text/plain": [
       "4"
      ]
     },
     "execution_count": 13,
     "metadata": {},
     "output_type": "execute_result"
    }
   ],
   "source": [
    "'1234 23'.find(' ')"
   ]
  }
 ],
 "metadata": {
  "kernelspec": {
   "display_name": "Python 3",
   "language": "python",
   "name": "python3"
  },
  "language_info": {
   "codemirror_mode": {
    "name": "ipython",
    "version": 3
   },
   "file_extension": ".py",
   "mimetype": "text/x-python",
   "name": "python",
   "nbconvert_exporter": "python",
   "pygments_lexer": "ipython3",
   "version": "3.10.6"
  },
  "orig_nbformat": 4
 },
 "nbformat": 4,
 "nbformat_minor": 2
}
