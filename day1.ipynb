{
 "cells": [
  {
   "cell_type": "code",
   "execution_count": 2,
   "metadata": {},
   "outputs": [
    {
     "ename": "ValueError",
     "evalue": "invalid literal for int() with base 10: ''",
     "output_type": "error",
     "traceback": [
      "\u001b[1;31m---------------------------------------------------------------------------\u001b[0m",
      "\u001b[1;31mValueError\u001b[0m                                Traceback (most recent call last)",
      "Cell \u001b[1;32mIn[2], line 3\u001b[0m\n\u001b[0;32m      1\u001b[0m \u001b[39m# 10899.사칙연산\u001b[39;00m\n\u001b[1;32m----> 3\u001b[0m a, b \u001b[39m=\u001b[39m \u001b[39mmap\u001b[39m(\u001b[39mint\u001b[39m, \u001b[39minput\u001b[39m()\u001b[39m.\u001b[39msplit(\u001b[39m'\u001b[39m\u001b[39m \u001b[39m\u001b[39m'\u001b[39m))\n\u001b[0;32m      4\u001b[0m \u001b[39mprint\u001b[39m(a\u001b[39m+\u001b[39mb)\n\u001b[0;32m      5\u001b[0m \u001b[39mprint\u001b[39m(a\u001b[39m-\u001b[39mb)\n",
      "\u001b[1;31mValueError\u001b[0m: invalid literal for int() with base 10: ''"
     ]
    }
   ],
   "source": [
    "# 10899.사칙연산\n",
    "\n",
    "a, b = map(int, input().split(' '))\n",
    "print(a+b)\n",
    "print(a-b)\n",
    "print(a*b)\n",
    "print(a//b)\n",
    "print(a%b)"
   ]
  },
  {
   "cell_type": "code",
   "execution_count": null,
   "metadata": {},
   "outputs": [
    {
     "name": "stdout",
     "output_type": "stream",
     "text": [
      "-1\n"
     ]
    }
   ],
   "source": [
    "# 1002.터렛\n",
    "\n",
    "T = int(input())\n",
    "for _ in range(T):\n",
    "    x1, y1, r1, x2, y2, r2 = map(int, input().split(' '))\n",
    "    p1 = (x1, y1)\n",
    "    p2 = (x2, y2)\n",
    "    dis = ((p2[0]-p1[0])**2+(p2[1]-p1[1])**2)**(1/2)\n",
    "    if dis == 0 and r1==r2:\n",
    "            print(-1)\n",
    "    elif dis > r1+r2:\n",
    "        print(0)\n",
    "    elif dis == r1+r2:\n",
    "        print(1)\n",
    "    elif dis < r1+r2:\n",
    "        if dis > abs(r1-r2):\n",
    "            print(2)\n",
    "        elif dis == abs(r1-r2):\n",
    "            print(1)\n",
    "        else:\n",
    "            print(0)"
   ]
  },
  {
   "cell_type": "code",
   "execution_count": null,
   "metadata": {},
   "outputs": [
    {
     "ename": "ValueError",
     "evalue": "invalid literal for int() with base 10: ''",
     "output_type": "error",
     "traceback": [
      "\u001b[1;31m---------------------------------------------------------------------------\u001b[0m",
      "\u001b[1;31mValueError\u001b[0m                                Traceback (most recent call last)",
      "Cell \u001b[1;32mIn[35], line 1\u001b[0m\n\u001b[1;32m----> 1\u001b[0m a, b, c \u001b[39m=\u001b[39m \u001b[39mmap\u001b[39m(\u001b[39mint\u001b[39m, \u001b[39minput\u001b[39m()\u001b[39m.\u001b[39msplit(\u001b[39m'\u001b[39m\u001b[39m \u001b[39m\u001b[39m'\u001b[39m))\n\u001b[0;32m      2\u001b[0m \u001b[39mif\u001b[39;00m a \u001b[39m==\u001b[39m b:\n\u001b[0;32m      3\u001b[0m     \u001b[39mif\u001b[39;00m b \u001b[39m==\u001b[39m c:\n",
      "\u001b[1;31mValueError\u001b[0m: invalid literal for int() with base 10: ''"
     ]
    }
   ],
   "source": [
    "# 2480.주사위세개\n",
    "a, b, c = map(int, input().split(' '))\n",
    "if a == b:\n",
    "    if b == c:\n",
    "        print(10000 + a*1000)\n",
    "    else:\n",
    "        print(1000+a*100)\n",
    "elif b == c:\n",
    "    print(1000 + b*100)\n",
    "elif c == a:\n",
    "    print(1000 + c*100)\n",
    "else:\n",
    "    x = max([a,b,c])\n",
    "    print(100*x)\n"
   ]
  },
  {
   "cell_type": "code",
   "execution_count": null,
   "metadata": {},
   "outputs": [
    {
     "name": "stdout",
     "output_type": "stream",
     "text": [
      "60466175\n"
     ]
    }
   ],
   "source": [
    "# 2745.진법변환 - (1)\n",
    "alphabet = [chr(x) for x in range(ord('A'), ord('Z')+1)]\n",
    "notations = [str(n) for n in range(10)] + alphabet\n",
    "base_num = [i for i in range(36)]\n",
    "base_dict = dict(zip(notations, base_num))\n",
    "a , b = map(str, input().split(' '))\n",
    "notation = int(b)\n",
    "nums = []\n",
    "for y in range(len(a)):\n",
    "    c = base_dict[a[y]]\n",
    "    num = c * notation**(len(a)-(y+1))\n",
    "    nums.append(num)\n",
    "print(sum(nums))"
   ]
  },
  {
   "cell_type": "code",
   "execution_count": null,
   "metadata": {},
   "outputs": [
    {
     "ename": "ValueError",
     "evalue": "not enough values to unpack (expected 2, got 1)",
     "output_type": "error",
     "traceback": [
      "\u001b[1;31m---------------------------------------------------------------------------\u001b[0m",
      "\u001b[1;31mValueError\u001b[0m                                Traceback (most recent call last)",
      "Cell \u001b[1;32mIn[85], line 1\u001b[0m\n\u001b[1;32m----> 1\u001b[0m a , b \u001b[39m=\u001b[39m \u001b[39mmap\u001b[39m(\u001b[39mstr\u001b[39m, \u001b[39minput\u001b[39m()\u001b[39m.\u001b[39msplit(\u001b[39m'\u001b[39m\u001b[39m \u001b[39m\u001b[39m'\u001b[39m))\n\u001b[0;32m      2\u001b[0m notation \u001b[39m=\u001b[39m \u001b[39mint\u001b[39m(b)\n\u001b[0;32m      3\u001b[0m nums \u001b[39m=\u001b[39m []\n",
      "\u001b[1;31mValueError\u001b[0m: not enough values to unpack (expected 2, got 1)"
     ]
    }
   ],
   "source": [
    "# 2745.진법변환 - (2)\n",
    "a , b = map(str, input().split(' '))\n",
    "notation = int(b)\n",
    "nums = []\n",
    "for y in range(len(a)):\n",
    "    c = ord(a[y])\n",
    "    if c < 58:\n",
    "        c = c - 48        \n",
    "    else:\n",
    "        c = c - 55\n",
    "    num = c * notation**(len(a)-(y+1))\n",
    "    nums.append(num)\n",
    "print(sum(nums))"
   ]
  },
  {
   "cell_type": "code",
   "execution_count": null,
   "metadata": {},
   "outputs": [
    {
     "name": "stdout",
     "output_type": "stream",
     "text": [
      "1679615 35\n",
      "46655 35\n",
      "1295 35\n",
      "35 35\n",
      "ZZZZZ\n"
     ]
    }
   ],
   "source": [
    "# 11005.진법변환\n",
    "alphabet = [chr(x) for x in range(ord('A'), ord('Z')+1)]\n",
    "notations = [str(n) for n in range(10)] + alphabet\n",
    "base_num = [i for i in range(36)]\n",
    "rev_dict = dict(zip(base_num, notations))\n",
    "a , b = map(int, input().split(' '))\n",
    "nums = []\n",
    "while True:\n",
    "    if a >= b:\n",
    "        y = a % b\n",
    "        a = a//b        \n",
    "        num_y = [rev_dict[y]]\n",
    "        nums = num_y + nums\n",
    "    else:\n",
    "        nums = [rev_dict[a]] + nums\n",
    "        break\n",
    "print(''.join(nums))"
   ]
  },
  {
   "cell_type": "code",
   "execution_count": null,
   "metadata": {},
   "outputs": [
    {
     "name": "stdout",
     "output_type": "stream",
     "text": [
      "1 0 -1 -1 2 -1 -1 -1 -1 4 3 -1 -1 7 5 -1 -1 -1 -1 -1 -1 -1 -1 -1 -1 -1\n"
     ]
    }
   ],
   "source": [
    "# 10809.알파벳 찾기 -1\n",
    "alphabet = [chr(x) for x in range(ord('a'), ord('z')+1)]\n",
    "word = str(input())\n",
    "output = []\n",
    "for alp in alphabet:\n",
    "    for i in range(len(word)):\n",
    "        if alp == word[i]:\n",
    "            output.append(str(i))\n",
    "            break\n",
    "        else:\n",
    "            if i == len(word)-1:\n",
    "                output.append(str(-1))\n",
    "                break\n",
    "print(' '.join(output))"
   ]
  },
  {
   "cell_type": "code",
   "execution_count": null,
   "metadata": {},
   "outputs": [
    {
     "name": "stdout",
     "output_type": "stream",
     "text": [
      "1 0 -1 -1 2 -1 -1 -1 -1 4 3 -1 -1 7 5 -1 -1 -1 -1 -1 -1 -1 -1 -1 -1 -1\n"
     ]
    }
   ],
   "source": [
    "# 10809.알파벳 찾기 -2\n",
    "alphabet = [x for x in range(ord('a'), ord('z')+1)]\n",
    "word = str(input())\n",
    "output = []\n",
    "for alp in alphabet:\n",
    "    for i in range(len(word)):\n",
    "        if alp == ord(word[i]):\n",
    "            output.append(str(i))\n",
    "            break\n",
    "        else:\n",
    "            if i == len(word)-1:\n",
    "                output.append(str(-1))\n",
    "                break\n",
    "print(' '.join(output))"
   ]
  },
  {
   "cell_type": "code",
   "execution_count": null,
   "metadata": {},
   "outputs": [
    {
     "name": "stdout",
     "output_type": "stream",
     "text": [
      "1 0 -1 -1 2 -1 -1 -1 -1 4 3 -1 -1 7 5 -1 -1 -1 -1 -1 -1 -1 -1 -1 -1 -1\n"
     ]
    }
   ],
   "source": [
    "# 10809.알파벳 찾기 -3\n",
    "word = str(input())\n",
    "output = ['-1' for _ in range(26)]\n",
    "for i in range(len(word)):\n",
    "    x = int(ord(word[i])-97)\n",
    "    if output[x] == '-1':\n",
    "        output[x] = str(i)\n",
    "print(' '.join(output))\n"
   ]
  },
  {
   "cell_type": "code",
   "execution_count": null,
   "metadata": {},
   "outputs": [
    {
     "name": "stdout",
     "output_type": "stream",
     "text": [
      "[3, 1, 2, 4, 5] 1\n",
      "[2, 1, 3, 4, 5] 2\n",
      "[1, 2, 3, 4, 5] 3\n",
      "2 3\n"
     ]
    }
   ],
   "source": [
    "# 23881.알고리즘 수업 - 선택정렬1\n",
    "N, K = map(int, input().split(' '))\n",
    "arr = list(map(int, input().split(' ')))\n",
    "max_sort = sorted(arr, reverse=True)\n",
    "cnt = 0\n",
    "for i in range(N-1):\n",
    "    if not arr[N-i-1] == max_sort[i]:\n",
    "        max_idx = 0\n",
    "        if not arr[max_idx] == max_sort[i]:  \n",
    "            for j in range(1,N-i):        \n",
    "                if arr[j] == max_sort[i]:\n",
    "                    max_idx = j\n",
    "                    break\n",
    "                elif arr[j] > arr[max_idx]:\n",
    "                    max_idx = j\n",
    "        if max_idx != N-i-1:\n",
    "            arr[N-i-1], arr[max_idx] = arr[max_idx], arr[N-i-1]\n",
    "            cnt += 1\n",
    "            if cnt == K:\n",
    "                result = f'{arr[max_idx]} {arr[N-i-1]}'\n",
    "if cnt < K:\n",
    "    result = -1\n",
    "print(result)"
   ]
  },
  {
   "cell_type": "code",
   "execution_count": 13,
   "metadata": {},
   "outputs": [
    {
     "ename": "SyntaxError",
     "evalue": "invalid syntax (959271862.py, line 4)",
     "output_type": "error",
     "traceback": [
      "\u001b[1;36m  Cell \u001b[1;32mIn[13], line 4\u001b[1;36m\u001b[0m\n\u001b[1;33m    X = [0 for _ in range(k)] + [x+1 for in range(k,N)]\u001b[0m\n\u001b[1;37m                                         ^\u001b[0m\n\u001b[1;31mSyntaxError\u001b[0m\u001b[1;31m:\u001b[0m invalid syntax\n"
     ]
    }
   ],
   "source": [
    "#9472.알고리즘 기말고사 (다음에 풀기)\n",
    "def S(N,k):\n",
    "    # 처음 k가 모두 틀리고, 나머지는 틀리거나 맞는다.\n",
    "    T = [x+1 for x in range(N-k)]\n",
    "    total = 1\n",
    "    for t in T:\n",
    "        total *= t\n",
    "    Wrongs = []\n",
    "    for a in range(k):\n",
    "        Wrongs.append(a)\n",
    "\n",
    "\n",
    "    \n",
    "cases = int(input())\n",
    "dict_S = {}\n",
    "for _ in range(cases):\n",
    "    num, N, k = map(int, input().split(' '))\n",
    "    print(f'{num} {S(N,k)}')"
   ]
  },
  {
   "cell_type": "code",
   "execution_count": null,
   "metadata": {},
   "outputs": [
    {
     "ename": "ValueError",
     "evalue": "invalid literal for int() with base 10: ''",
     "output_type": "error",
     "traceback": [
      "\u001b[1;31m---------------------------------------------------------------------------\u001b[0m",
      "\u001b[1;31mValueError\u001b[0m                                Traceback (most recent call last)",
      "Cell \u001b[1;32mIn[26], line 3\u001b[0m\n\u001b[0;32m      1\u001b[0m \u001b[39m# no.13460 : escape ball2\u001b[39;00m\n\u001b[0;32m      2\u001b[0m Balls \u001b[39m=\u001b[39m [\u001b[39m'\u001b[39m\u001b[39mR\u001b[39m\u001b[39m'\u001b[39m, \u001b[39m'\u001b[39m\u001b[39mB\u001b[39m\u001b[39m'\u001b[39m]\n\u001b[1;32m----> 3\u001b[0m N, M \u001b[39m=\u001b[39m \u001b[39mmap\u001b[39m(\u001b[39mint\u001b[39m, \u001b[39minput\u001b[39m()\u001b[39m.\u001b[39msplit(\u001b[39m'\u001b[39m\u001b[39m \u001b[39m\u001b[39m'\u001b[39m))\n\u001b[0;32m      4\u001b[0m input_board \u001b[39m=\u001b[39m []\n\u001b[0;32m      5\u001b[0m \u001b[39mfor\u001b[39;00m n \u001b[39min\u001b[39;00m \u001b[39mrange\u001b[39m(N):\n",
      "\u001b[1;31mValueError\u001b[0m: invalid literal for int() with base 10: ''"
     ]
    }
   ],
   "source": [
    "# no.13460 : escape ball2 (다음에 풀기)\n",
    "Balls = ['R', 'B']\n",
    "N, M = map(int, input().split(' '))\n",
    "input_board = []\n",
    "for n in range(N):\n",
    "    Text = str(input())\n",
    "    if len(Text) == M:\n",
    "        T = [x for x in Text]\n",
    "        input_board.append(T)"
   ]
  },
  {
   "cell_type": "code",
   "execution_count": null,
   "metadata": {},
   "outputs": [
    {
     "data": {
      "text/plain": [
       "'z,z,z'"
      ]
     },
     "execution_count": 2,
     "metadata": {},
     "output_type": "execute_result"
    }
   ],
   "source": [
    "def LtRBalls(board):\n",
    "    result = []\n",
    "    for m in range(M):\n",
    "        for n in range(N):\n",
    "            if board[n][m] in Balls:\n",
    "                if board[m][m+1] == 'O':\n",
    "                    result.append(board[n][m])\n",
    "                    board[n][m] = '.'\n",
    "                elif board[m][m+1] == '.':\n",
    "                    board[m][m+1] = board[n][m]\n",
    "                    board[n][m] = '.'"
   ]
  },
  {
   "cell_type": "code",
   "execution_count": 36,
   "metadata": {},
   "outputs": [
    {
     "ename": "ValueError",
     "evalue": "invalid literal for int() with base 10: ''",
     "output_type": "error",
     "traceback": [
      "\u001b[1;31m---------------------------------------------------------------------------\u001b[0m",
      "\u001b[1;31mValueError\u001b[0m                                Traceback (most recent call last)",
      "Cell \u001b[1;32mIn[36], line 2\u001b[0m\n\u001b[0;32m      1\u001b[0m \u001b[39m#23744.알고리즘 과외 : 시간초과 해결필요...\u001b[39;00m\n\u001b[1;32m----> 2\u001b[0m N \u001b[39m=\u001b[39m \u001b[39mint\u001b[39;49m(\u001b[39minput\u001b[39;49m())\n\u001b[0;32m      3\u001b[0m students \u001b[39m=\u001b[39m []\n\u001b[0;32m      4\u001b[0m \u001b[39mfor\u001b[39;00m _ \u001b[39min\u001b[39;00m \u001b[39mrange\u001b[39m(N):\n",
      "\u001b[1;31mValueError\u001b[0m: invalid literal for int() with base 10: ''"
     ]
    }
   ],
   "source": [
    "#23744.알고리즘 과외 : 시간초과 해결필요...\n",
    "N = int(input())\n",
    "students = []\n",
    "for _ in range(N):\n",
    "    a, l, r = map(int, input().split(' '))\n",
    "    students.append([a,l,r])\n",
    "rating_sub = -1\n",
    "for i in range(len(students)-1):\n",
    "    l1 = students[i][1]\n",
    "    r1 = students[i][2]\n",
    "    for j in range(i+l1, i+r1):\n",
    "        if j < N:            \n",
    "            l2 = students[j][1]\n",
    "            r2 = students[j][2]\n",
    "            x = j - i\n",
    "            l = max([l1,l2])\n",
    "            r = min([r1,r2])\n",
    "            if x >= l and x <= r:\n",
    "                a1 = students[i][0]\n",
    "                a2 = students[j][0]\n",
    "                if abs(a1-a2) > rating_sub:\n",
    "                    rating_sub = abs(a1-a2) \n",
    "print(rating_sub)"
   ]
  },
  {
   "cell_type": "code",
   "execution_count": 40,
   "metadata": {},
   "outputs": [
    {
     "ename": "ValueError",
     "evalue": "invalid literal for int() with base 10: ''",
     "output_type": "error",
     "traceback": [
      "\u001b[1;31m---------------------------------------------------------------------------\u001b[0m",
      "\u001b[1;31mValueError\u001b[0m                                Traceback (most recent call last)",
      "Cell \u001b[1;32mIn[40], line 19\u001b[0m\n\u001b[0;32m     16\u001b[0m         result \u001b[39m=\u001b[39m \u001b[39m'\u001b[39m\u001b[39mNO\u001b[39m\u001b[39m'\u001b[39m\n\u001b[0;32m     17\u001b[0m     \u001b[39mreturn\u001b[39;00m(result)\n\u001b[1;32m---> 19\u001b[0m N \u001b[39m=\u001b[39m \u001b[39mint\u001b[39;49m(\u001b[39minput\u001b[39;49m())\n\u001b[0;32m     20\u001b[0m \u001b[39mfor\u001b[39;00m _ \u001b[39min\u001b[39;00m \u001b[39mrange\u001b[39m(N):\n\u001b[0;32m     21\u001b[0m     Text \u001b[39m=\u001b[39m \u001b[39mstr\u001b[39m(\u001b[39minput\u001b[39m())\n",
      "\u001b[1;31mValueError\u001b[0m: invalid literal for int() with base 10: ''"
     ]
    }
   ],
   "source": [
    "#9012 괄호(스택)\n",
    "def is_VPS(Text):\n",
    "    t = 0\n",
    "    b = 0\n",
    "    for i in range(len(Text)):\n",
    "        if Text[i] == '(':\n",
    "            t += 1\n",
    "        elif Text[i] == ')':\n",
    "            if t > 0:\n",
    "                t -= 1\n",
    "            else:\n",
    "                b += 1\n",
    "    if t == 0 and b == 0:\n",
    "        result = 'YES'\n",
    "    else:\n",
    "        result = 'NO'\n",
    "    return(result)\n",
    "\n",
    "N = int(input())\n",
    "for _ in range(N):\n",
    "    Text = str(input())\n",
    "    result = is_VPS(Text)\n",
    "    print(result)"
   ]
  }
 ],
 "metadata": {
  "kernelspec": {
   "display_name": "Python 3",
   "language": "python",
   "name": "python3"
  },
  "language_info": {
   "codemirror_mode": {
    "name": "ipython",
    "version": 3
   },
   "file_extension": ".py",
   "mimetype": "text/x-python",
   "name": "python",
   "nbconvert_exporter": "python",
   "pygments_lexer": "ipython3",
   "version": "3.10.6"
  },
  "orig_nbformat": 4
 },
 "nbformat": 4,
 "nbformat_minor": 2
}
