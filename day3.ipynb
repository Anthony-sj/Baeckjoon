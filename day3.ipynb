{
 "cells": [
  {
   "cell_type": "code",
   "execution_count": null,
   "metadata": {},
   "outputs": [],
   "source": [
    "# 7891\n",
    "C = int(input())\n",
    "for _ in range(C):\n",
    "    a, b = map(int, input().split(' '))\n",
    "    print(a+b)"
   ]
  },
  {
   "cell_type": "code",
   "execution_count": 1,
   "metadata": {},
   "outputs": [
    {
     "name": "stdout",
     "output_type": "stream",
     "text": [
      "70\n"
     ]
    }
   ],
   "source": [
    "# 8370\n",
    "n1, k1, n2, k2 = map(int, input().split(' '))\n",
    "result = (n1*k1)+(n2*k2)\n",
    "print(result)"
   ]
  },
  {
   "cell_type": "code",
   "execution_count": 3,
   "metadata": {},
   "outputs": [
    {
     "name": "stdout",
     "output_type": "stream",
     "text": [
      "6\n"
     ]
    }
   ],
   "source": [
    "# 8393\n",
    "N = int(input())\n",
    "n_sum = 0\n",
    "for n in range(N):\n",
    "    n_sum += n+1\n",
    "print(n_sum)"
   ]
  },
  {
   "cell_type": "code",
   "execution_count": 32,
   "metadata": {},
   "outputs": [
    {
     "name": "stdout",
     "output_type": "stream",
     "text": [
      "6\n",
      "4\n"
     ]
    }
   ],
   "source": [
    "#8437\n",
    "T = int(input())\n",
    "N = int(input())\n",
    "a = (T-N)//2\n",
    "print(T-a)\n",
    "print(a)   "
   ]
  },
  {
   "cell_type": "code",
   "execution_count": 37,
   "metadata": {},
   "outputs": [
    {
     "name": "stdout",
     "output_type": "stream",
     "text": [
      "cba\n"
     ]
    }
   ],
   "source": [
    "# 8545\n",
    "T = str(input())\n",
    "print(T[2]+T[1]+T[0])"
   ]
  },
  {
   "cell_type": "code",
   "execution_count": 40,
   "metadata": {},
   "outputs": [
    {
     "name": "stdout",
     "output_type": "stream",
     "text": [
      "12 18\n"
     ]
    }
   ],
   "source": [
    "# 8871\n",
    "N = int(input())\n",
    "print(f\"{2*(N+1)} {3*(N+1)}\")"
   ]
  },
  {
   "cell_type": "code",
   "execution_count": 41,
   "metadata": {},
   "outputs": [
    {
     "name": "stdout",
     "output_type": "stream",
     "text": [
      "AE\n",
      "OO\n",
      "AB\n"
     ]
    }
   ],
   "source": [
    "# 9086\n",
    "T = int(input())\n",
    "for _ in range(T):\n",
    "    test = str(input())\n",
    "    print(test[0]+test[-1])"
   ]
  },
  {
   "cell_type": "code",
   "execution_count": 42,
   "metadata": {},
   "outputs": [
    {
     "name": "stdout",
     "output_type": "stream",
     "text": [
      "F\n"
     ]
    }
   ],
   "source": [
    "# 9498\n",
    "score = int(input())\n",
    "if score >= 90:\n",
    "    print('A')\n",
    "elif score >= 80:\n",
    "    print('B')\n",
    "elif score >= 70:\n",
    "    print('C')\n",
    "elif score >= 60:\n",
    "    print('D')\n",
    "else:\n",
    "    print('F')"
   ]
  },
  {
   "cell_type": "code",
   "execution_count": 53,
   "metadata": {},
   "outputs": [
    {
     "name": "stdout",
     "output_type": "stream",
     "text": [
      "2023-08-17\n"
     ]
    }
   ],
   "source": [
    "import datetime\n",
    "\n",
    "cur = datetime.datetime.now().date()\n",
    "form = cur.strftime(\"%Y-%m-%d\")\n",
    "print(form)"
   ]
  },
  {
   "cell_type": "code",
   "execution_count": 54,
   "metadata": {},
   "outputs": [
    {
     "name": "stdout",
     "output_type": "stream",
     "text": [
      "1 4 2 3\n"
     ]
    }
   ],
   "source": [
    "#10871\n",
    "N, X = map(int, input().split(' '))\n",
    "A = list(map(int, input().split(' ')))\n",
    "B = [str(b) for b in A if b < X]\n",
    "print(' '.join(B))"
   ]
  },
  {
   "cell_type": "code",
   "execution_count": 55,
   "metadata": {},
   "outputs": [
    {
     "name": "stdout",
     "output_type": "stream",
     "text": [
      "0\n"
     ]
    }
   ],
   "source": [
    "# 10807\n",
    "N = int(input())\n",
    "A = list(map(int, input().split(' ')))\n",
    "v = int(input())\n",
    "B = [b for b in A if b == v]\n",
    "print(len(B))"
   ]
  },
  {
   "cell_type": "code",
   "execution_count": 58,
   "metadata": {},
   "outputs": [
    {
     "name": "stdout",
     "output_type": "stream",
     "text": [
      "1\n"
     ]
    }
   ],
   "source": [
    "# 10872\n",
    "N = int(input())\n",
    "p = 1\n",
    "for i in range(N):\n",
    "    p *= i+1\n",
    "print(p)"
   ]
  },
  {
   "cell_type": "code",
   "execution_count": 59,
   "metadata": {},
   "outputs": [
    {
     "name": "stdout",
     "output_type": "stream",
     "text": [
      "jooff??!\n"
     ]
    }
   ],
   "source": [
    "# 10926\n",
    "T = str(input())\n",
    "print(T+'??!')"
   ]
  },
  {
   "cell_type": "code",
   "execution_count": 60,
   "metadata": {},
   "outputs": [
    {
     "name": "stdout",
     "output_type": "stream",
     "text": [
      "65\n"
     ]
    }
   ],
   "source": [
    "# 11654\n",
    "T = str(input())\n",
    "print(ord(T))"
   ]
  },
  {
   "cell_type": "code",
   "execution_count": null,
   "metadata": {},
   "outputs": [],
   "source": [
    "while True:\n",
    "    try:\n",
    "        A = str(input())\n",
    "    except:\n",
    "        break\n",
    "    print(A)"
   ]
  },
  {
   "cell_type": "code",
   "execution_count": 2,
   "metadata": {},
   "outputs": [
    {
     "name": "stdout",
     "output_type": "stream",
     "text": [
      "8\n"
     ]
    }
   ],
   "source": [
    "# 24082\n",
    "X = int(input())\n",
    "print(X**3)"
   ]
  },
  {
   "cell_type": "code",
   "execution_count": 7,
   "metadata": {},
   "outputs": [
    {
     "name": "stdout",
     "output_type": "stream",
     "text": [
      "9\n",
      "0\n",
      "0\n",
      "0\n",
      "0\n",
      "0\n",
      "0\n",
      "0\n",
      "0\n",
      "0\n",
      "0\n"
     ]
    }
   ],
   "source": [
    "# 1264\n",
    "aeiou = ['a', 'e', 'i', 'o', 'u']\n",
    "while True:\n",
    "    try:\n",
    "        T = str(input())\n",
    "    except:\n",
    "        break\n",
    "    if T == '#':\n",
    "        break\n",
    "    else:\n",
    "        cnt = 0\n",
    "        for t in range(len(T)):\n",
    "            if T[t].lower() in aeiou:\n",
    "                cnt+=1\n",
    "        print(cnt)"
   ]
  },
  {
   "cell_type": "code",
   "execution_count": 12,
   "metadata": {},
   "outputs": [
    {
     "name": "stdout",
     "output_type": "stream",
     "text": [
      "Billy Junior\n",
      "Sam Senior\n"
     ]
    },
    {
     "ename": "ValueError",
     "evalue": "not enough values to unpack (expected 3, got 1)",
     "output_type": "error",
     "traceback": [
      "\u001b[1;31m---------------------------------------------------------------------------\u001b[0m",
      "\u001b[1;31mValueError\u001b[0m                                Traceback (most recent call last)",
      "Cell \u001b[1;32mIn[12], line 10\u001b[0m\n\u001b[0;32m      8\u001b[0m     \u001b[39mbreak\u001b[39;00m\n\u001b[0;32m      9\u001b[0m X \u001b[39m=\u001b[39m \u001b[39m'\u001b[39m\u001b[39mJunior\u001b[39m\u001b[39m'\u001b[39m\n\u001b[1;32m---> 10\u001b[0m name, y, w \u001b[39m=\u001b[39m T\u001b[39m.\u001b[39msplit(\u001b[39m'\u001b[39m\u001b[39m \u001b[39m\u001b[39m'\u001b[39m)\n\u001b[0;32m     11\u001b[0m \u001b[39mif\u001b[39;00m \u001b[39mint\u001b[39m(y)\u001b[39m>\u001b[39m\u001b[39m17\u001b[39m \u001b[39mor\u001b[39;00m \u001b[39mint\u001b[39m(w)\u001b[39m>\u001b[39m\u001b[39m=\u001b[39m\u001b[39m80\u001b[39m:\n\u001b[0;32m     12\u001b[0m     X \u001b[39m=\u001b[39m \u001b[39m'\u001b[39m\u001b[39mSenior\u001b[39m\u001b[39m'\u001b[39m\n",
      "\u001b[1;31mValueError\u001b[0m: not enough values to unpack (expected 3, got 1)"
     ]
    }
   ],
   "source": [
    "# 2083\n",
    "while True:\n",
    "    try:\n",
    "        T = str(input())\n",
    "    except:\n",
    "        break\n",
    "    if T == '# 0 0':\n",
    "        break\n",
    "    X = 'Junior'\n",
    "    name, y, w = T.split(' ')\n",
    "    if int(y)>17 or int(w)>=80:\n",
    "        X = 'Senior'\n",
    "    print(str(name), X)"
   ]
  },
  {
   "cell_type": "code",
   "execution_count": 13,
   "metadata": {},
   "outputs": [
    {
     "name": "stdout",
     "output_type": "stream",
     "text": [
      "    *\n",
      "   **\n",
      "  ***\n",
      " ****\n",
      "*****\n"
     ]
    }
   ],
   "source": [
    "# 2439\n",
    "N = int(input())\n",
    "for n in range(1, N+1):\n",
    "    print((' '*(N-n))+('*'*n))"
   ]
  },
  {
   "cell_type": "code",
   "execution_count": 14,
   "metadata": {},
   "outputs": [
    {
     "name": "stdout",
     "output_type": "stream",
     "text": [
      "*****\n",
      "****\n",
      "***\n",
      "**\n",
      "*\n"
     ]
    }
   ],
   "source": [
    "# 2440\n",
    "N = int(input())\n",
    "for n in range(N):\n",
    "    print(('*'*(N-n)))"
   ]
  },
  {
   "cell_type": "code",
   "execution_count": 16,
   "metadata": {},
   "outputs": [
    {
     "name": "stdout",
     "output_type": "stream",
     "text": [
      "0 30 54\n"
     ]
    }
   ],
   "source": [
    "# 2530\n",
    "H, M, S = map(int, input().split(' '))\n",
    "T = int(input())\n",
    "S = S + T\n",
    "M = M + (S//60)\n",
    "H = H + (M//60)\n",
    "print(H%24, M%60, S%60)"
   ]
  },
  {
   "cell_type": "code",
   "execution_count": 17,
   "metadata": {},
   "outputs": [
    {
     "name": "stdout",
     "output_type": "stream",
     "text": [
      "5\n",
      "4\n",
      "3\n",
      "2\n",
      "1\n"
     ]
    }
   ],
   "source": [
    "# 2742\n",
    "N = int(input())\n",
    "for n in range(N):\n",
    "    print(N-n)"
   ]
  },
  {
   "cell_type": "code",
   "execution_count": 18,
   "metadata": {},
   "outputs": [
    {
     "name": "stdout",
     "output_type": "stream",
     "text": [
      "1 2 3\n"
     ]
    }
   ],
   "source": [
    "# 2752\n",
    "T = sorted(list(map(int, input().split(' '))))\n",
    "print(T[0], T[1], T[2])"
   ]
  },
  {
   "cell_type": "code",
   "execution_count": 21,
   "metadata": {},
   "outputs": [
    {
     "name": "stdout",
     "output_type": "stream",
     "text": [
      "-1 1 900 -100 -3\n"
     ]
    }
   ],
   "source": [
    "# 2845\n",
    "L, P = map(int, input().split(' '))\n",
    "A = list(map(int, input().split(' ')))\n",
    "X = L*P\n",
    "B = [str(a-X) for a in A]\n",
    "print(' '.join(B))"
   ]
  },
  {
   "cell_type": "code",
   "execution_count": 22,
   "metadata": {},
   "outputs": [
    {
     "name": "stdout",
     "output_type": "stream",
     "text": [
      "19\n"
     ]
    }
   ],
   "source": [
    "# 3046\n",
    "R1, S = map(int, input().split(' '))\n",
    "R2 = 2*S - R1\n",
    "print(R2)"
   ]
  },
  {
   "cell_type": "code",
   "execution_count": 45,
   "metadata": {},
   "outputs": [
    {
     "name": "stdout",
     "output_type": "stream",
     "text": [
      "-1\n"
     ]
    }
   ],
   "source": [
    "# 4299\n",
    "a, b = map(int, input().split(' '))\n",
    "x = (a+b)/2\n",
    "y = (a-b)/2\n",
    "if x%1==0 and y%1==0:\n",
    "    if x>=0 and y>=0:\n",
    "        print(int(x), int(y))\n",
    "    else:\n",
    "        print(-1)\n",
    "else:\n",
    "    print(-1)"
   ]
  },
  {
   "cell_type": "code",
   "execution_count": 46,
   "metadata": {},
   "outputs": [
    {
     "name": "stdout",
     "output_type": "stream",
     "text": [
      "1. sfas\n",
      "2. gsfg\n",
      "3. fewgqa\n",
      "4. adsfasf\n",
      "5. gadgasd\n"
     ]
    }
   ],
   "source": [
    "# 4470\n",
    "N = int(input())\n",
    "for n in range(1, N+1):\n",
    "    print(f'{n}. '+str(input()))"
   ]
  },
  {
   "cell_type": "code",
   "execution_count": 47,
   "metadata": {},
   "outputs": [
    {
     "name": "stdout",
     "output_type": "stream",
     "text": [
      "Gnomes\n",
      "Ordered\n",
      "Unordered\n",
      "Ordered\n"
     ]
    }
   ],
   "source": [
    "# 4589\n",
    "N = int(input())\n",
    "print('Gnomes:')\n",
    "for _ in range(N):\n",
    "    a, b, c = map(int, input().split(' '))\n",
    "    x = a - b\n",
    "    y = b - c\n",
    "    if x*y >= 0:\n",
    "        print('Ordered')\n",
    "    else:\n",
    "        print('Unordered')"
   ]
  },
  {
   "cell_type": "code",
   "execution_count": 55,
   "metadata": {},
   "outputs": [
    {
     "name": "stdout",
     "output_type": "stream",
     "text": [
      "2801.00\n",
      "5.00\n"
     ]
    }
   ],
   "source": [
    "# 4696\n",
    "while True:\n",
    "    try:\n",
    "        N = float(input())\n",
    "    except:\n",
    "        break\n",
    "    if N == 0:\n",
    "        break\n",
    "    else:\n",
    "        print(f'{1+ N + N*N + N*N*N + N*N*N*N :.2f}')"
   ]
  },
  {
   "cell_type": "code",
   "execution_count": 56,
   "metadata": {},
   "outputs": [
    {
     "name": "stdout",
     "output_type": "stream",
     "text": [
      "Objects weighing 100.00 on Earth will weigh 16.70 on the moon.\n"
     ]
    }
   ],
   "source": [
    "# 4714\n",
    "while True:\n",
    "    try:\n",
    "        W = float(input())\n",
    "    except:\n",
    "        break\n",
    "    if W < 0:\n",
    "        break\n",
    "    else:\n",
    "        print(f'Objects weighing {W :.2f} on Earth will weigh {W*0.167:.2f} on the moon.')\n"
   ]
  },
  {
   "cell_type": "code",
   "execution_count": 63,
   "metadata": {},
   "outputs": [
    {
     "name": "stdout",
     "output_type": "stream",
     "text": [
      "1 2 3 4 5 6 Go! 7 8 9 10 11 12 Go! 13 14 15 16 17 18 Go!\n"
     ]
    }
   ],
   "source": [
    "# 5300\n",
    "Pirates = int(input())\n",
    "result = []\n",
    "for p in range(Pirates):\n",
    "    result.append(str(p+1))\n",
    "    if (p+1)%6 == 0:\n",
    "        result.append('Go!')\n",
    "if Pirates%6 != 0:\n",
    "    result.append('Go!')\n",
    "print(' '.join(result))"
   ]
  }
 ],
 "metadata": {
  "kernelspec": {
   "display_name": "Python 3",
   "language": "python",
   "name": "python3"
  },
  "language_info": {
   "codemirror_mode": {
    "name": "ipython",
    "version": 3
   },
   "file_extension": ".py",
   "mimetype": "text/x-python",
   "name": "python",
   "nbconvert_exporter": "python",
   "pygments_lexer": "ipython3",
   "version": "3.10.6"
  },
  "orig_nbformat": 4
 },
 "nbformat": 4,
 "nbformat_minor": 2
}
