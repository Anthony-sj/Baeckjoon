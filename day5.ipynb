{
 "cells": [
  {
   "cell_type": "code",
   "execution_count": 10,
   "metadata": {},
   "outputs": [
    {
     "name": "stdout",
     "output_type": "stream",
     "text": [
      "VladSaturnian\n"
     ]
    }
   ],
   "source": [
    "# 6778\n",
    "# Aliens = [('least 3 ant','most 4 eye',\"TroyMartian\"), # 안테나 3개 이상, 눈 4개 이하\n",
    "#           ('most 6 ant','least 2 eye',\"VladSaturnian\"), # 안테나 3개 이하, 눈 2개 이상\n",
    "#           ('most 2 ant','most 3 eye',\"GraemeMercurian\")] # 안테나 2개 이하, 눈 3개 이하\n",
    "# 수 이상일때 1, 아니면 0\n",
    "ant, eyes = int(input()), int(input())\n",
    "Aliens = [\"TroyMartian\",\"VladSaturnian\", \"GraemeMercurian\"]\n",
    "if ant >= 3 and eyes <= 4:\n",
    "    print(Aliens[0])\n",
    "if ant <= 6 and eyes >= 2:\n",
    "    print(Aliens[1])\n",
    "if ant <= 2 and eyes <= 3:\n",
    "    print(Aliens[2])"
   ]
  },
  {
   "cell_type": "code",
   "execution_count": 12,
   "metadata": {},
   "outputs": [
    {
     "name": "stdout",
     "output_type": "stream",
     "text": [
      "The 1-3-sum is 120\n"
     ]
    }
   ],
   "source": [
    "# 6810\n",
    "N = '9780921418'+str(input())+str(input())+str(input())\n",
    "sum = [1,3]\n",
    "result = 0\n",
    "for i in range(len(N)):\n",
    "    result+=int(N[i])*sum[i%2]\n",
    "print(f'The 1-3-sum is {result}')"
   ]
  },
  {
   "cell_type": "code",
   "execution_count": 17,
   "metadata": {},
   "outputs": [
    {
     "name": "stdout",
     "output_type": "stream",
     "text": [
      "Overweight\n"
     ]
    }
   ],
   "source": [
    "# 6825\n",
    "w , h = float(input()), float(input())\n",
    "bmi = w/(h**2)\n",
    "ans = 'Underweight' if bmi < 18.5 else 'Normal weight' if bmi <= 25.0 else 'Overweight'\n",
    "print(ans)"
   ]
  },
  {
   "cell_type": "code",
   "execution_count": 20,
   "metadata": {},
   "outputs": [
    {
     "name": "stdout",
     "output_type": "stream",
     "text": [
      "SQL\n"
     ]
    }
   ],
   "source": [
    "# 6841\n",
    "dict = {'CU':\"see you\",\n",
    "        \":-)\":\"I’m happy\",\n",
    "        \":-(\":\"I’m unhappy\",\n",
    "        \";-)\":\"wink\",\n",
    "        \":-P\":\"stick out my tongue\",\n",
    "        \"(~.~)\":\"sleepy\",\n",
    "        \"TA\":\"totally awesome\",\n",
    "        \"CCC\":\"Canadian Computing Competition\",\n",
    "        \"CUZ\":\"because\",\n",
    "        \"TY\":\"thank-you\",\n",
    "        \"YW\":\"you’re welcome\",\n",
    "        \"TTYL\":\"talk to you later\"} \n",
    "while True:\n",
    "    try:\n",
    "        S = str(input())\n",
    "    except:\n",
    "        break       \n",
    "    if S in dict:\n",
    "        print(dict[S])\n",
    "        if S == \"TTYL\":\n",
    "            break\n",
    "    else:\n",
    "        print(S)"
   ]
  },
  {
   "cell_type": "code",
   "execution_count": 31,
   "metadata": {},
   "outputs": [
    {
     "name": "stdout",
     "output_type": "stream",
     "text": [
      "The largest square has side length 4.\n"
     ]
    }
   ],
   "source": [
    "# 6887\n",
    "tiles = int(input())\n",
    "x = 0\n",
    "while tiles >= x**2:\n",
    "    x += 1\n",
    "print(f'The largest square has side length {x-1}.')"
   ]
  },
  {
   "cell_type": "code",
   "execution_count": 34,
   "metadata": {},
   "outputs": [
    {
     "name": "stdout",
     "output_type": "stream",
     "text": [
      "2004\n",
      "2064\n"
     ]
    }
   ],
   "source": [
    "# 6888\n",
    "mayor , treasurer, cheif, dog = 4, 2, 3, 5\n",
    "X, Y = int(input()), int(input())\n",
    "for year in range(0,Y-X):\n",
    "    if year%mayor == 0 and year%treasurer == 0 and year%cheif ==0 and year%dog ==0:\n",
    "        print(f'All positions change in year {year+X}')"
   ]
  },
  {
   "cell_type": "code",
   "execution_count": null,
   "metadata": {},
   "outputs": [],
   "source": [
    "# 6888 위에 방법이 더 연산이 빠름;;\n",
    "X, Y = int(input()), int(input())\n",
    "for year in range(0,Y-X+1):\n",
    "    if year%60 == 0:\n",
    "        print(f'All positions change in year {year+X}')"
   ]
  },
  {
   "cell_type": "code",
   "execution_count": 35,
   "metadata": {},
   "outputs": [
    {
     "name": "stdout",
     "output_type": "stream",
     "text": [
      "*\n",
      "**\n",
      "***\n",
      "****\n",
      "*****\n",
      "*\n",
      "**\n",
      "***\n",
      "*\n",
      "**\n",
      "*\n",
      "**\n",
      "***\n",
      "****\n",
      "*****\n",
      "******\n",
      "*******\n"
     ]
    }
   ],
   "source": [
    "# 7595\n",
    "while True:\n",
    "    try:\n",
    "        a = int(input())\n",
    "    except:\n",
    "        break\n",
    "    if a == 0:\n",
    "        break\n",
    "    for i in range(a):\n",
    "        print('*'*(i+1))"
   ]
  },
  {
   "cell_type": "code",
   "execution_count": 40,
   "metadata": {},
   "outputs": [
    {
     "name": "stdout",
     "output_type": "stream",
     "text": [
      "0\n"
     ]
    }
   ],
   "source": [
    "# 8674\n",
    "a, b = map(int, input().split(' '))\n",
    "x,y = (a,b) if a<= b else (b,a)\n",
    "if y%2 == 0:\n",
    "    print(0)\n",
    "elif x%2 == 0:\n",
    "    print(0)\n",
    "else:\n",
    "    print(x)"
   ]
  },
  {
   "cell_type": "code",
   "execution_count": 47,
   "metadata": {},
   "outputs": [
    {
     "name": "stdout",
     "output_type": "stream",
     "text": [
      "0\n"
     ]
    }
   ],
   "source": [
    "# 8718\n",
    "x,k = map(int, input().split(' '))\n",
    "if k*7 <= x:\n",
    "    print(k*7000)\n",
    "elif k*3.5 <= x:\n",
    "    print(k*3500)\n",
    "elif k*1.75 <= x:\n",
    "    print(k*1750)\n",
    "else:\n",
    "    print(0)"
   ]
  },
  {
   "cell_type": "code",
   "execution_count": 52,
   "metadata": {},
   "outputs": [
    {
     "name": "stdout",
     "output_type": "stream",
     "text": [
      "2\n"
     ]
    }
   ],
   "source": [
    "# 8723\n",
    "x=0\n",
    "abc = sorted(list(map(int, input().split(' '))))\n",
    "a, b, c = abc[0], abc[1], abc[2]\n",
    "if c**2 == a**2+b**2:\n",
    "    x=1\n",
    "elif a==b and b==c:\n",
    "    x=2\n",
    "print(x)"
   ]
  },
  {
   "cell_type": "code",
   "execution_count": 57,
   "metadata": {},
   "outputs": [
    {
     "name": "stdout",
     "output_type": "stream",
     "text": [
      "68\n"
     ]
    }
   ],
   "source": [
    "# 10039\n",
    "x = 0\n",
    "for _ in range(5):\n",
    "    a = int(input())\n",
    "    if a < 40:\n",
    "        x += 40\n",
    "    else:\n",
    "        x += a\n",
    "print(x//5)"
   ]
  }
 ],
 "metadata": {
  "kernelspec": {
   "display_name": "Python 3",
   "language": "python",
   "name": "python3"
  },
  "language_info": {
   "codemirror_mode": {
    "name": "ipython",
    "version": 3
   },
   "file_extension": ".py",
   "mimetype": "text/x-python",
   "name": "python",
   "nbconvert_exporter": "python",
   "pygments_lexer": "ipython3",
   "version": "3.10.6"
  },
  "orig_nbformat": 4
 },
 "nbformat": 4,
 "nbformat_minor": 2
}
