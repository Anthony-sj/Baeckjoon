{
 "cells": [
  {
   "cell_type": "code",
   "execution_count": 52,
   "metadata": {},
   "outputs": [
    {
     "ename": "ValueError",
     "evalue": "invalid literal for int() with base 10: ''",
     "output_type": "error",
     "traceback": [
      "\u001b[1;31m---------------------------------------------------------------------------\u001b[0m",
      "\u001b[1;31mValueError\u001b[0m                                Traceback (most recent call last)",
      "Cell \u001b[1;32mIn[52], line 2\u001b[0m\n\u001b[0;32m      1\u001b[0m \u001b[39m# 8760\u001b[39;00m\n\u001b[1;32m----> 2\u001b[0m Z \u001b[39m=\u001b[39m \u001b[39mint\u001b[39;49m(\u001b[39minput\u001b[39;49m())\n\u001b[0;32m      3\u001b[0m \u001b[39mfor\u001b[39;00m _ \u001b[39min\u001b[39;00m \u001b[39mrange\u001b[39m(Z):\n\u001b[0;32m      4\u001b[0m     W,K \u001b[39m=\u001b[39m \u001b[39mmap\u001b[39m(\u001b[39mint\u001b[39m, \u001b[39minput\u001b[39m()\u001b[39m.\u001b[39msplit(\u001b[39m'\u001b[39m\u001b[39m \u001b[39m\u001b[39m'\u001b[39m))\n",
      "\u001b[1;31mValueError\u001b[0m: invalid literal for int() with base 10: ''"
     ]
    }
   ],
   "source": [
    "# 8760\n",
    "Z = int(input())\n",
    "for _ in range(Z):\n",
    "    W,K = map(int, input().split(' '))\n",
    "    x = (W*K)//2\n",
    "    print(x)"
   ]
  },
  {
   "cell_type": "code",
   "execution_count": null,
   "metadata": {},
   "outputs": [
    {
     "name": "stdout",
     "output_type": "stream",
     "text": [
      "Hello World, Judge 1!\n",
      "Hello World, Judge 2!\n",
      "Hello World, Judge 3!\n"
     ]
    }
   ],
   "source": [
    "# 9316\n",
    "for i in range(int(input())):\n",
    "    print('Hello World, Judge %d!' % (i+1))"
   ]
  },
  {
   "cell_type": "code",
   "execution_count": null,
   "metadata": {},
   "outputs": [
    {
     "name": "stdout",
     "output_type": "stream",
     "text": [
      "Q1\n",
      "Q3\n",
      "AXIS\n",
      "Q2\n",
      "AXIS\n"
     ]
    }
   ],
   "source": [
    "# 9772\n",
    "while True:\n",
    "    try:\n",
    "        a,b = map(float, input().split(' '))\n",
    "    except:\n",
    "        break\n",
    "    if a == 0 or b == 0:\n",
    "        print('AXIS')\n",
    "        if a == 0 and b == 0:\n",
    "            break\n",
    "    elif a > 0 and b > 0:\n",
    "        print('Q1')\n",
    "    elif a < 0 and b > 0:\n",
    "        print('Q2')\n",
    "    elif a < 0 and b < 0:\n",
    "        print('Q3')\n",
    "    elif a > 0 and b < 0:\n",
    "        print('Q4')"
   ]
  },
  {
   "cell_type": "code",
   "execution_count": null,
   "metadata": {},
   "outputs": [
    {
     "name": "stdout",
     "output_type": "stream",
     "text": [
      "Case 1: 529.5\n"
     ]
    },
    {
     "ename": "ValueError",
     "evalue": "invalid literal for int() with base 10: ''",
     "output_type": "error",
     "traceback": [
      "\u001b[1;31m---------------------------------------------------------------------------\u001b[0m",
      "\u001b[1;31mValueError\u001b[0m                                Traceback (most recent call last)",
      "Cell \u001b[1;32mIn[15], line 11\u001b[0m\n\u001b[0;32m      9\u001b[0m \u001b[39mif\u001b[39;00m D \u001b[39m==\u001b[39m \u001b[39m'\u001b[39m\u001b[39m0\u001b[39m\u001b[39m'\u001b[39m:\n\u001b[0;32m     10\u001b[0m     \u001b[39mbreak\u001b[39;00m\n\u001b[1;32m---> 11\u001b[0m D \u001b[39m=\u001b[39m \u001b[39mlist\u001b[39;49m(\u001b[39mmap\u001b[39;49m(\u001b[39mint\u001b[39;49m, D\u001b[39m.\u001b[39;49msplit(\u001b[39m'\u001b[39;49m\u001b[39m \u001b[39;49m\u001b[39m'\u001b[39;49m)))\n\u001b[0;32m     12\u001b[0m D \u001b[39m=\u001b[39m \u001b[39msorted\u001b[39m(D)\n\u001b[0;32m     13\u001b[0m \u001b[39mif\u001b[39;00m \u001b[39mlen\u001b[39m(D)\u001b[39m%\u001b[39m\u001b[39m2\u001b[39m \u001b[39m==\u001b[39m \u001b[39m0\u001b[39m:\n",
      "\u001b[1;31mValueError\u001b[0m: invalid literal for int() with base 10: ''"
     ]
    }
   ],
   "source": [
    "# 9782 예제오류 있음;;;\n",
    "idx = 0\n",
    "while True:\n",
    "    idx +=1\n",
    "    try:\n",
    "        D = str(input())\n",
    "    except:\n",
    "        break\n",
    "    if D == '0':\n",
    "        break\n",
    "    D = list(map(int, D.split(' ')))\n",
    "    D = sorted(D)\n",
    "    if len(D)%2 == 0:\n",
    "        midian = (D[(len(D)//2)]+D[(len(D)//2)+1])/2\n",
    "    else:\n",
    "        midian = (D[((len(D))//2)])\n",
    "    print(f'Case {idx :d}: {midian :.1f}')\n"
   ]
  },
  {
   "cell_type": "code",
   "execution_count": null,
   "metadata": {},
   "outputs": [
    {
     "name": "stdout",
     "output_type": "stream",
     "text": [
      "Scalene\n"
     ]
    }
   ],
   "source": [
    "# 10101\n",
    "a, b, c = int(input()), int(input()), int(input())\n",
    "triangles = ['Equilateral', 'Isosceles', 'Scalene', 'Error']\n",
    "idx = -1\n",
    "if a + b + c == 180:\n",
    "    if a == b and b == c:\n",
    "        idx = 0\n",
    "    elif a == b or b == c or c == a:\n",
    "        idx = 1\n",
    "    else:\n",
    "        idx = 2\n",
    "print(triangles[idx])"
   ]
  },
  {
   "cell_type": "code",
   "execution_count": null,
   "metadata": {},
   "outputs": [
    {
     "name": "stdout",
     "output_type": "stream",
     "text": [
      "200\n"
     ]
    }
   ],
   "source": [
    "# 10156\n",
    "K, N, M = map(int, input().split(' '))\n",
    "x = 0\n",
    "y = K*N - M\n",
    "if y > 0:\n",
    "    x += y\n",
    "print(x)"
   ]
  },
  {
   "cell_type": "code",
   "execution_count": null,
   "metadata": {},
   "outputs": [
    {
     "name": "stdout",
     "output_type": "stream",
     "text": [
      "XX\n",
      "XX\n",
      "XX\n",
      "\n",
      "XXXXX\n",
      "\n",
      "XXXXXXXXXXXXXXXXXXXX\n",
      "XXXXXXXXXXXXXXXXXXXX\n",
      "XXXXXXXXXXXXXXXXXXXX\n",
      "XXXXXXXXXXXXXXXXXXXX\n",
      "XXXXXXXXXXXXXXXXXXXX\n",
      "XXXXXXXXXXXXXXXXXXXX\n",
      "XXXXXXXXXXXXXXXXXXXX\n",
      "XXXXXXXXXXXXXXXXXXXX\n",
      "\n"
     ]
    }
   ],
   "source": [
    "# 10188\n",
    "for _ in range(int(input())):\n",
    "    a, b = map(int, input().split(' '))\n",
    "    for i in range(b):\n",
    "        print('X'*a)\n",
    "    print()"
   ]
  },
  {
   "cell_type": "code",
   "execution_count": null,
   "metadata": {},
   "outputs": [
    {
     "name": "stdout",
     "output_type": "stream",
     "text": [
      "-5 is odd\n",
      "-6 is even\n"
     ]
    },
    {
     "ename": "ValueError",
     "evalue": "invalid literal for int() with base 10: ''",
     "output_type": "error",
     "traceback": [
      "\u001b[1;31m---------------------------------------------------------------------------\u001b[0m",
      "\u001b[1;31mValueError\u001b[0m                                Traceback (most recent call last)",
      "Cell \u001b[1;32mIn[22], line 3\u001b[0m\n\u001b[0;32m      1\u001b[0m \u001b[39m# 10480\u001b[39;00m\n\u001b[0;32m      2\u001b[0m \u001b[39mfor\u001b[39;00m _ \u001b[39min\u001b[39;00m \u001b[39mrange\u001b[39m(\u001b[39mint\u001b[39m(\u001b[39minput\u001b[39m())):\n\u001b[1;32m----> 3\u001b[0m     a \u001b[39m=\u001b[39m \u001b[39mint\u001b[39;49m(\u001b[39minput\u001b[39;49m())\n\u001b[0;32m      4\u001b[0m     \u001b[39mif\u001b[39;00m a\u001b[39m%\u001b[39m\u001b[39m2\u001b[39m \u001b[39m==\u001b[39m \u001b[39m0\u001b[39m:\n\u001b[0;32m      5\u001b[0m         \u001b[39mprint\u001b[39m(\u001b[39mf\u001b[39m\u001b[39m'\u001b[39m\u001b[39m{\u001b[39;00ma\u001b[39m}\u001b[39;00m\u001b[39m is even\u001b[39m\u001b[39m'\u001b[39m)\n",
      "\u001b[1;31mValueError\u001b[0m: invalid literal for int() with base 10: ''"
     ]
    }
   ],
   "source": [
    "# 10480\n",
    "for _ in range(int(input())):\n",
    "    a = int(input())\n",
    "    if a%2 == 0:\n",
    "        print(f'{a} is even')\n",
    "    else:\n",
    "        print(f'{a} is odd')"
   ]
  },
  {
   "cell_type": "code",
   "execution_count": null,
   "metadata": {},
   "outputs": [
    {
     "name": "stdout",
     "output_type": "stream",
     "text": [
      "Before\n"
     ]
    }
   ],
   "source": [
    "# 10768\n",
    "m, d = int(input()), int(input())\n",
    "msg = ['Special','Before','After']\n",
    "x = -1\n",
    "if m == 2:\n",
    "    if d == 18:\n",
    "        x=0\n",
    "    elif d < 18:\n",
    "        x=1\n",
    "elif m < 2:\n",
    "    x = 1\n",
    "print(msg[x])"
   ]
  },
  {
   "cell_type": "code",
   "execution_count": null,
   "metadata": {},
   "outputs": [
    {
     "name": "stdout",
     "output_type": "stream",
     "text": [
      "1\n"
     ]
    }
   ],
   "source": [
    "# 10797\n",
    "a, B = int(input()) , list(map(int, input().split(' ')))\n",
    "x = 0\n",
    "for b in B:\n",
    "    if a == b:\n",
    "        x+=1\n",
    "print(x)"
   ]
  },
  {
   "cell_type": "code",
   "execution_count": null,
   "metadata": {},
   "outputs": [
    {
     "name": "stdout",
     "output_type": "stream",
     "text": [
      "0 0 0 0 0 0 0 0 0 0 0 0 0 0 0 0 0 0 0 0 0 0 0 0 0 1\n"
     ]
    }
   ],
   "source": [
    "# 10808\n",
    "T = str(input())\n",
    "alphs = [0 for _ in range(ord('a'),ord('z')+1)]\n",
    "for t in range(len(T)):\n",
    "    alphs[ord(T[t])-ord('a')]+=1\n",
    "print(' '.join(map(str, alphs)))"
   ]
  },
  {
   "cell_type": "code",
   "execution_count": null,
   "metadata": {},
   "outputs": [],
   "source": [
    "# 11121 - ???? 문제를 이해하지 못함;;;\n",
    "for _ in range(int(input())):\n",
    "    a, b =map(str, input().split(' '))\n",
    "    x = 0\n",
    "    if len(a) != len(b):\n",
    "        print('ERROR')\n",
    "    else:\n",
    "        for i in range(len(a)):\n",
    "            if a[i] != b[i]:\n",
    "                x+=1\n",
    "        if ((len(a)-x)/len(a)) >= 1/2:\n",
    "            print('ERROR')\n",
    "        else:\n",
    "            print('OK')"
   ]
  },
  {
   "cell_type": "code",
   "execution_count": 14,
   "metadata": {},
   "outputs": [
    {
     "name": "stdout",
     "output_type": "stream",
     "text": [
      "힣\n"
     ]
    }
   ],
   "source": [
    "# 11282\n",
    "N = int(input())-1\n",
    "print(chr(ord('가')+N))"
   ]
  },
  {
   "cell_type": "code",
   "execution_count": 20,
   "metadata": {},
   "outputs": [
    {
     "name": "stdout",
     "output_type": "stream",
     "text": [
      "rewq\n"
     ]
    }
   ],
   "source": [
    "# 11365\n",
    "while True:\n",
    "    try:\n",
    "        T = str(input())\n",
    "    except:\n",
    "        break\n",
    "    if T == \"END\":\n",
    "        break\n",
    "    else:\n",
    "        for t in T[::-1]:\n",
    "            print(t, end='')\n",
    "        print('', end='\\n')"
   ]
  },
  {
   "cell_type": "code",
   "execution_count": 22,
   "metadata": {},
   "outputs": [
    {
     "name": "stdout",
     "output_type": "stream",
     "text": [
      "15\n"
     ]
    }
   ],
   "source": [
    "# 11729\n",
    "N = int(input())\n",
    "X = str(input())\n",
    "res = 0\n",
    "if N == len(X):\n",
    "    for a in X:\n",
    "        res+=int(a)\n",
    "print(res)"
   ]
  },
  {
   "cell_type": "code",
   "execution_count": 24,
   "metadata": {},
   "outputs": [
    {
     "name": "stdout",
     "output_type": "stream",
     "text": [
      "5\n"
     ]
    }
   ],
   "source": [
    "# 11943\n",
    "A,B = map(int, input().split(' '))\n",
    "C,D = map(int, input().split(' '))\n",
    "print(min(A+D, B+C))"
   ]
  },
  {
   "cell_type": "code",
   "execution_count": 25,
   "metadata": {},
   "outputs": [
    {
     "name": "stdout",
     "output_type": "stream",
     "text": [
      "0000100\n",
      "0101110\n",
      "1111111\n",
      "0101110\n",
      "0000100\n"
     ]
    }
   ],
   "source": [
    "# 11945\n",
    "N, M = map(int, input().split(' '))\n",
    "for _ in range(N):\n",
    "    t = str(input())\n",
    "    if len(t) == M:\n",
    "        print(t[::-1])"
   ]
  },
  {
   "cell_type": "code",
   "execution_count": 26,
   "metadata": {},
   "outputs": [
    {
     "name": "stdout",
     "output_type": "stream",
     "text": [
      "228\n"
     ]
    }
   ],
   "source": [
    "# 11948\n",
    "S1 = sorted([int(input()) for _ in range(4)])[1:]\n",
    "S2 = sorted([int(input()) for _ in range(2)])[1:]\n",
    "print(sum(S1+S2))"
   ]
  },
  {
   "cell_type": "code",
   "execution_count": 30,
   "metadata": {},
   "outputs": [
    {
     "name": "stdout",
     "output_type": "stream",
     "text": [
      "3\n"
     ]
    }
   ],
   "source": [
    "#13118\n",
    "people = list(map(int, input().split(' ')))\n",
    "apple = list(map(int, input().split(' ')))\n",
    "x = 0\n",
    "for p in range(len(people)):\n",
    "    if apple[0] == people[p]:\n",
    "        x+=1\n",
    "        print(p+1)  \n",
    "if x == 0:\n",
    "    print(x)"
   ]
  },
  {
   "cell_type": "code",
   "execution_count": 34,
   "metadata": {},
   "outputs": [
    {
     "name": "stdout",
     "output_type": "stream",
     "text": [
      "4\n"
     ]
    }
   ],
   "source": [
    "# 16204\n",
    "N,M,K = map(int, input().split(' '))\n",
    "front = [0 for i in range(M)]+[1 for j in range(N-M)]\n",
    "back = [0 for i in range(K)]+[1 for j in range(N-K)]\n",
    "x = 0\n",
    "for n in range(N):\n",
    "    if front[n] == back[n]:\n",
    "        x+=1\n",
    "print(x)"
   ]
  },
  {
   "cell_type": "code",
   "execution_count": null,
   "metadata": {},
   "outputs": [],
   "source": [
    "# 15726\n",
    "a,b,c = map(int, input().split(' '))\n",
    "print(int(max(a/b*c, a*b/c)))"
   ]
  },
  {
   "cell_type": "code",
   "execution_count": 41,
   "metadata": {},
   "outputs": [
    {
     "name": "stdout",
     "output_type": "stream",
     "text": [
      "11\n"
     ]
    }
   ],
   "source": [
    "# 15873\n",
    "N = str(input())\n",
    "if len(N)>2:\n",
    "    if N[-2:] == '10':\n",
    "        x = int(N[:-2]) + int(N[-2:])\n",
    "    else:\n",
    "        x = int(N[:-1]) + int(N[-1])\n",
    "else:\n",
    "    x = int(N[0])+int(N[1])\n",
    "print(x)"
   ]
  },
  {
   "cell_type": "code",
   "execution_count": 53,
   "metadata": {},
   "outputs": [
    {
     "name": "stdout",
     "output_type": "stream",
     "text": [
      "133\n"
     ]
    }
   ],
   "source": [
    "# 27890\n",
    "X, N = map(int, input().split(' '))\n",
    "for _ in range(N):\n",
    "    if X%2 == 0:\n",
    "        X = (X//2)^6\n",
    "    else:\n",
    "        X = (2*X)^6\n",
    "print(X)"
   ]
  },
  {
   "cell_type": "code",
   "execution_count": 55,
   "metadata": {},
   "outputs": [
    {
     "name": "stdout",
     "output_type": "stream",
     "text": [
      "2 0\n"
     ]
    }
   ],
   "source": [
    "# 28097\n",
    "N = int(input())\n",
    "T = map(int,input().split(' '))\n",
    "X = 8*(N-1)\n",
    "for t in T:\n",
    "    X += t\n",
    "print('%d %d' % (X//24, X%24))"
   ]
  }
 ],
 "metadata": {
  "kernelspec": {
   "display_name": "Python 3",
   "language": "python",
   "name": "python3"
  },
  "language_info": {
   "codemirror_mode": {
    "name": "ipython",
    "version": 3
   },
   "file_extension": ".py",
   "mimetype": "text/x-python",
   "name": "python",
   "nbconvert_exporter": "python",
   "pygments_lexer": "ipython3",
   "version": "3.10.6"
  },
  "orig_nbformat": 4
 },
 "nbformat": 4,
 "nbformat_minor": 2
}
