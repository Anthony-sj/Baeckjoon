{
 "cells": [
  {
   "cell_type": "code",
   "execution_count": 3,
   "metadata": {},
   "outputs": [
    {
     "name": "stdout",
     "output_type": "stream",
     "text": [
      "4 2 0 4\n",
      "1 0 0 0\n",
      "7 1 1 4\n"
     ]
    }
   ],
   "source": [
    "# 2720\n",
    "for _ in range(int(input())):\n",
    "    C = int(input())\n",
    "    print(C//25, (C%25)//10, (C%25%10//5), C%5)"
   ]
  },
  {
   "cell_type": "code",
   "execution_count": 9,
   "metadata": {},
   "outputs": [
    {
     "name": "stdout",
     "output_type": "stream",
     "text": [
      "45\n",
      "105\n",
      "210\n",
      "2145\n"
     ]
    }
   ],
   "source": [
    "# 2721\n",
    "for _ in range(int(input())):\n",
    "    print(sum([(x+1)*sum([y+1 for y in range(x+2)]) for x in range(int(input()))]))"
   ]
  },
  {
   "cell_type": "code",
   "execution_count": 26,
   "metadata": {},
   "outputs": [
    {
     "name": "stdout",
     "output_type": "stream",
     "text": [
      "Trip #1: 1.29 928.20\n",
      "Trip #2: 1179.86 1415.84\n"
     ]
    }
   ],
   "source": [
    "# 2765\n",
    "idx = 0\n",
    "while 1:\n",
    "    idx+=1\n",
    "    try:\n",
    "        r, f, t = map(float, input().split())\n",
    "    except:\n",
    "        break\n",
    "    if int(f) == 0:\n",
    "        break\n",
    "    r /= 12*5280\n",
    "    t /= 60*60\n",
    "    distance = 3.1415927*r*f\n",
    "    MPH = distance/t\n",
    "    print(f'Trip #{idx}: {round(distance,2):.2f} {round(MPH,2):.2f}')"
   ]
  },
  {
   "cell_type": "code",
   "execution_count": 32,
   "metadata": {},
   "outputs": [
    {
     "name": "stdout",
     "output_type": "stream",
     "text": [
      "4642.86\n"
     ]
    }
   ],
   "source": [
    "# 2783\n",
    "X,Y = map(int, input().split())\n",
    "p = X/Y\n",
    "for _ in range(int(input())):\n",
    "    a,b = map(int,input().split())\n",
    "    if a/b < p:\n",
    "        p = a/b\n",
    "print('%.2f' % (round(1000*p,2)))"
   ]
  },
  {
   "cell_type": "code",
   "execution_count": 5,
   "metadata": {},
   "outputs": [
    {
     "name": "stdout",
     "output_type": "stream",
     "text": [
      "3 4\n"
     ]
    }
   ],
   "source": [
    "# 2857\n",
    "x = []\n",
    "for i in range(5):\n",
    "    name = input()\n",
    "    if 'FBI' in name:\n",
    "        x.append(str(i+1))        \n",
    "print(('HE GOT AWAY!',' '.join(x))[len(x)>0])"
   ]
  },
  {
   "cell_type": "code",
   "execution_count": 40,
   "metadata": {},
   "outputs": [
    {
     "name": "stdout",
     "output_type": "stream",
     "text": [
      "1\n"
     ]
    }
   ],
   "source": [
    "# 2863\n",
    "a,b = map(int, input().split())\n",
    "c,d = map(int, input().split())\n",
    "A=[a,b,d,c]\n",
    "T = []\n",
    "for i in range(4):\n",
    "    t = A[(-i)%4]/A[(3-i)%4] + A[(1-i)%4]/A[(2-i)%4]\n",
    "    T.append(t)\n",
    "print(T.index(max(T)))"
   ]
  },
  {
   "cell_type": "code",
   "execution_count": 46,
   "metadata": {},
   "outputs": [
    {
     "name": "stdout",
     "output_type": "stream",
     "text": [
      "3\n"
     ]
    }
   ],
   "source": [
    "# 2874\n",
    "n,m,k = map(int, input().split())\n",
    "for _ in range(k):\n",
    "    if n//2 >= m:\n",
    "        n -= 1\n",
    "    elif m > n//2:\n",
    "        m -= 1\n",
    "print((n//2,m)[n//2>m])"
   ]
  },
  {
   "cell_type": "code",
   "execution_count": 30,
   "metadata": {},
   "outputs": [
    {
     "data": {
      "text/plain": [
       "8.106449106449107"
      ]
     },
     "execution_count": 30,
     "metadata": {},
     "output_type": "execute_result"
    }
   ],
   "source": [
    "n, m, k = map(int, input().split())\n",
    "print(min((n+m-k)//3, n//2, m))"
   ]
  },
  {
   "cell_type": "code",
   "execution_count": 49,
   "metadata": {},
   "outputs": [
    {
     "name": "stdout",
     "output_type": "stream",
     "text": [
      "23 45\n"
     ]
    }
   ],
   "source": [
    "# 2884\n",
    "h,m = map(int, input().split())\n",
    "print((h+(m-45)//60)%24, (m-45)%60)"
   ]
  },
  {
   "cell_type": "code",
   "execution_count": 73,
   "metadata": {},
   "outputs": [
    {
     "name": "stdout",
     "output_type": "stream",
     "text": [
      "1089\n"
     ]
    }
   ],
   "source": [
    "# 2903\n",
    "N = int(input())\n",
    "print((2+sum([2**x for x in range(N)]))**2)"
   ]
  },
  {
   "cell_type": "code",
   "execution_count": 78,
   "metadata": {},
   "outputs": [
    {
     "name": "stdout",
     "output_type": "stream",
     "text": [
      "91\n"
     ]
    }
   ],
   "source": [
    "# 2914\n",
    "A,I = map(int, input().split())\n",
    "print(1+A*(I-1))"
   ]
  },
  {
   "cell_type": "code",
   "execution_count": 128,
   "metadata": {},
   "outputs": [
    {
     "name": "stdout",
     "output_type": "stream",
     "text": [
      "30\n"
     ]
    }
   ],
   "source": [
    "# 2921\n",
    "N = int(input())+1\n",
    "A = [i for i in range(N)]\n",
    "print(sum([A[j]+k for j in range(len(A)) for k in A[j:]]))"
   ]
  },
  {
   "cell_type": "code",
   "execution_count": 130,
   "metadata": {},
   "outputs": [
    {
     "name": "stdout",
     "output_type": "stream",
     "text": [
      "1010\n"
     ]
    }
   ],
   "source": [
    "# 2935\n",
    "a,x,b = int(input()), input(), int(input())\n",
    "print((a+b,a*b)[x in '*'])"
   ]
  },
  {
   "cell_type": "code",
   "execution_count": 104,
   "metadata": {},
   "outputs": [
    {
     "data": {
      "text/plain": [
       "[3, 4, 5]"
      ]
     },
     "execution_count": 104,
     "metadata": {},
     "output_type": "execute_result"
    }
   ],
   "source": [
    "# 2953\n",
    "W = [0]\n",
    "for i in range(5):\n",
    "    W.append(sum(list(map(int, input().split()))))\n",
    "print(W.index(max(W)), max(W))"
   ]
  },
  {
   "cell_type": "code",
   "execution_count": 132,
   "metadata": {},
   "outputs": [
    {
     "name": "stdout",
     "output_type": "stream",
     "text": [
      "12\n"
     ]
    }
   ],
   "source": [
    "# 2959\n",
    "A = sorted(list(map(int, input().split())))\n",
    "print(A[2]*A[0])"
   ]
  },
  {
   "cell_type": "code",
   "execution_count": 133,
   "metadata": {},
   "outputs": [
    {
     "name": "stdout",
     "output_type": "stream",
     "text": [
      "3\n"
     ]
    }
   ],
   "source": [
    "# 2965\n",
    "a, b, c = map(int, input().split())\n",
    "print(max(b-a, c-b)-1)"
   ]
  },
  {
   "cell_type": "code",
   "execution_count": 135,
   "metadata": {},
   "outputs": [
    {
     "name": "stdout",
     "output_type": "stream",
     "text": [
      "9990\n",
      "100\n",
      "Not allowed\n"
     ]
    }
   ],
   "source": [
    "# 2975\n",
    "while 1:\n",
    "    try:\n",
    "        a = input()\n",
    "    except:\n",
    "        break\n",
    "    if a == '0 W 0':\n",
    "        break\n",
    "    else:\n",
    "        a= a.split()\n",
    "        x = (int(a[0])-int(a[2]), int(a[0])+int(a[2]))[a[1] in 'D']\n",
    "        print((x,'Not allowed')[x<-200])"
   ]
  },
  {
   "cell_type": "code",
   "execution_count": 142,
   "metadata": {},
   "outputs": [
    {
     "name": "stdout",
     "output_type": "stream",
     "text": [
      "5=15/3\n"
     ]
    }
   ],
   "source": [
    "# 2985\n",
    "a,b,c = input().split()\n",
    "for i in '=+-*/':\n",
    "    if i in '=':\n",
    "        for j in '+-*/':\n",
    "            x = b+j+c\n",
    "            if eval(x) == int(a):\n",
    "                t = a+i+b+j+c\n",
    "    else:\n",
    "        j = '='\n",
    "        x = a+i+b\n",
    "        if eval(x) == int(c):\n",
    "            t = a+i+b+j+c\n",
    "print(t)"
   ]
  },
  {
   "cell_type": "code",
   "execution_count": 147,
   "metadata": {},
   "outputs": [
    {
     "name": "stdout",
     "output_type": "stream",
     "text": [
      "5=15/3\n"
     ]
    }
   ],
   "source": [
    "a,b,c = input().split()\n",
    "for i in '+-*/':\n",
    "    x = a+i+b+'='+c if eval(a+i+b)==int(c) else a+'='+b+i+c if eval(b+i+c)== int(a) else ''\n",
    "    if x != '':\n",
    "        break\n",
    "print(x)"
   ]
  },
  {
   "cell_type": "code",
   "execution_count": 150,
   "metadata": {},
   "outputs": [
    {
     "name": "stdout",
     "output_type": "stream",
     "text": [
      "1\n",
      "0\n",
      "0\n"
     ]
    }
   ],
   "source": [
    "# 2991\n",
    "a,b,c,d = map(int, input().split())\n",
    "A = [1]*a + [0]*b\n",
    "B = [1]*c + [0]*d\n",
    "p = list(map(int, input().split()))\n",
    "for i in p:\n",
    "    print(A[i%len(A)-1] + B[i%len(B)-1])"
   ]
  },
  {
   "cell_type": "code",
   "execution_count": 156,
   "metadata": {},
   "outputs": [
    {
     "name": "stdout",
     "output_type": "stream",
     "text": [
      "4\n"
     ]
    }
   ],
   "source": [
    "# 2997\n",
    "N = sorted(list(map(int, input().split())))\n",
    "a,b,c = N[:]\n",
    "if (c + a)/2 == b:\n",
    "    print((c+(c-b), a-(b-a))[c+(c-b)>100])\n",
    "else:\n",
    "    print((b-(c-b), b+(b-a))[c-b>b-a])"
   ]
  },
  {
   "cell_type": "code",
   "execution_count": 176,
   "metadata": {},
   "outputs": [
    {
     "name": "stdout",
     "output_type": "stream",
     "text": [
      "6\n"
     ]
    }
   ],
   "source": [
    "# 3004\n",
    "x = 1\n",
    "for i in range(int(input())):\n",
    "    x += ((i+1)//2+1)\n",
    "print(x)"
   ]
  }
 ],
 "metadata": {
  "kernelspec": {
   "display_name": "Python 3",
   "language": "python",
   "name": "python3"
  },
  "language_info": {
   "codemirror_mode": {
    "name": "ipython",
    "version": 3
   },
   "file_extension": ".py",
   "mimetype": "text/x-python",
   "name": "python",
   "nbconvert_exporter": "python",
   "pygments_lexer": "ipython3",
   "version": "3.10.6"
  },
  "orig_nbformat": 4
 },
 "nbformat": 4,
 "nbformat_minor": 2
}
