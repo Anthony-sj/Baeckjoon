{
 "cells": [
  {
   "cell_type": "code",
   "execution_count": 1,
   "metadata": {},
   "outputs": [
    {
     "ename": "ValueError",
     "evalue": "not enough values to unpack (expected 2, got 0)",
     "output_type": "error",
     "traceback": [
      "\u001b[1;31m---------------------------------------------------------------------------\u001b[0m",
      "\u001b[1;31mValueError\u001b[0m                                Traceback (most recent call last)",
      "Cell \u001b[1;32mIn[1], line 4\u001b[0m\n\u001b[0;32m      2\u001b[0m x,y \u001b[39m=\u001b[39m [],[]\n\u001b[0;32m      3\u001b[0m \u001b[39mfor\u001b[39;00m _ \u001b[39min\u001b[39;00m \u001b[39mrange\u001b[39m(\u001b[39m3\u001b[39m):\n\u001b[1;32m----> 4\u001b[0m     a,b \u001b[39m=\u001b[39m \u001b[39mmap\u001b[39m(\u001b[39mint\u001b[39m, \u001b[39minput\u001b[39m()\u001b[39m.\u001b[39msplit())\n\u001b[0;32m      5\u001b[0m     x\u001b[39m.\u001b[39mappend(a\u001b[39m*\u001b[39m((\u001b[39m-\u001b[39m\u001b[39m1\u001b[39m)\u001b[39m*\u001b[39m\u001b[39m*\u001b[39m(a \u001b[39min\u001b[39;00m x)))\n\u001b[0;32m      6\u001b[0m     y\u001b[39m.\u001b[39mappend(b\u001b[39m*\u001b[39m((\u001b[39m-\u001b[39m\u001b[39m1\u001b[39m)\u001b[39m*\u001b[39m\u001b[39m*\u001b[39m(b \u001b[39min\u001b[39;00m y)))\n",
      "\u001b[1;31mValueError\u001b[0m: not enough values to unpack (expected 2, got 0)"
     ]
    }
   ],
   "source": [
    "# 3009\n",
    "x,y = [],[]\n",
    "for _ in range(3):\n",
    "    a,b = map(int, input().split())\n",
    "    x.append(a*((-1)**(a in x)))\n",
    "    y.append(b*((-1)**(b in y)))\n",
    "print(sum(x),sum(y))    "
   ]
  },
  {
   "cell_type": "code",
   "execution_count": null,
   "metadata": {},
   "outputs": [
    {
     "name": "stdout",
     "output_type": "stream",
     "text": [
      "02:01:26\n"
     ]
    }
   ],
   "source": [
    "# 3029\n",
    "a,b,c = map(int, input().split(':'))\n",
    "x,y,z = map(int, input().split(':'))\n",
    "s = (z-c)\n",
    "m = ((y-b) + (z-c)//60)\n",
    "h = ((x-a) + (m)//60)%24\n",
    "h += 24*(h==0 and m==0 and s==0)\n",
    "print(f'{h:02d}:{m%60:02d}:{s%60:02d}')"
   ]
  },
  {
   "cell_type": "code",
   "execution_count": null,
   "metadata": {},
   "outputs": [
    {
     "name": "stdout",
     "output_type": "stream",
     "text": [
      "5.0\n"
     ]
    },
    {
     "ename": "ValueError",
     "evalue": "invalid literal for int() with base 10: ''",
     "output_type": "error",
     "traceback": [
      "\u001b[1;31m---------------------------------------------------------------------------\u001b[0m",
      "\u001b[1;31mValueError\u001b[0m                                Traceback (most recent call last)",
      "Cell \u001b[1;32mIn[92], line 6\u001b[0m\n\u001b[0;32m      4\u001b[0m \u001b[39mprint\u001b[39m(i)\n\u001b[0;32m      5\u001b[0m \u001b[39mfor\u001b[39;00m _ \u001b[39min\u001b[39;00m \u001b[39mrange\u001b[39m(n):\n\u001b[1;32m----> 6\u001b[0m     a\u001b[39m=\u001b[39m \u001b[39mint\u001b[39;49m(\u001b[39minput\u001b[39;49m())\n\u001b[0;32m      7\u001b[0m     \u001b[39mif\u001b[39;00m a\u001b[39m>\u001b[39m\u001b[39m=\u001b[39m(w,h)[w\u001b[39m>\u001b[39mh] \u001b[39mand\u001b[39;00m a\u001b[39m<\u001b[39m\u001b[39m=\u001b[39mi:\n\u001b[0;32m      8\u001b[0m         \u001b[39mprint\u001b[39m(\u001b[39m'\u001b[39m\u001b[39mDA\u001b[39m\u001b[39m'\u001b[39m)\n",
      "\u001b[1;31mValueError\u001b[0m: invalid literal for int() with base 10: ''"
     ]
    }
   ],
   "source": [
    "# 3034\n",
    "n,w,h = map(int, input().split())\n",
    "i = (w**2 + h**2)**(1/2)\n",
    "for _ in range(n):\n",
    "    a= int(input())\n",
    "    if a<=i:\n",
    "        print('DA')\n",
    "    else:\n",
    "        print('NE')"
   ]
  },
  {
   "cell_type": "code",
   "execution_count": null,
   "metadata": {},
   "outputs": [
    {
     "name": "stdout",
     "output_type": "stream",
     "text": [
      "6 2 4\n"
     ]
    }
   ],
   "source": [
    "# 3047\n",
    "T = sorted(list(map(int, input().split())))\n",
    "a = input()\n",
    "x = ord('A')\n",
    "print(T[ord(a[0])-x],T[ord(a[1])-x], T[ord(a[2])-x])"
   ]
  },
  {
   "cell_type": "code",
   "execution_count": null,
   "metadata": {},
   "outputs": [
    {
     "name": "stdout",
     "output_type": "stream",
     "text": [
      "313845184.633437\n",
      "199800050.000000\n"
     ]
    }
   ],
   "source": [
    "# 3053\n",
    "import math\n",
    "pi = math.pi\n",
    "r = int(input())\n",
    "print(f'{pi*(r*r):6f}')\n",
    "print(f'{2*(r*r):6f}')"
   ]
  },
  {
   "cell_type": "code",
   "execution_count": null,
   "metadata": {},
   "outputs": [
    {
     "name": "stdout",
     "output_type": "stream",
     "text": [
      "12 2\n",
      "260 42\n"
     ]
    }
   ],
   "source": [
    "# 3058\n",
    "T = int(input())\n",
    "for _ in range(T):\n",
    "    A =[]\n",
    "    for i in map(int, input().split()):\n",
    "        if i%2==0:\n",
    "            A.append(i)\n",
    "    print(sum(A),min(A))"
   ]
  },
  {
   "cell_type": "code",
   "execution_count": null,
   "metadata": {},
   "outputs": [
    {
     "name": "stdout",
     "output_type": "stream",
     "text": [
      "267\n",
      "1950\n"
     ]
    }
   ],
   "source": [
    "# 3059\n",
    "T = int(input())\n",
    "for _ in range(T):\n",
    "    x = [k for k in range(ord('A'), ord('Z')+1)]\n",
    "    for i in input():\n",
    "        if ord(i) in x:\n",
    "            x.remove(ord(i))\n",
    "    print(sum(x))"
   ]
  },
  {
   "cell_type": "code",
   "execution_count": null,
   "metadata": {},
   "outputs": [],
   "source": [
    "_,*I=open(0)\n",
    "for S in I:\n",
    " r=2025\n",
    " for s in set(S):r-=ord(s)\n",
    " print(r)"
   ]
  },
  {
   "cell_type": "code",
   "execution_count": null,
   "metadata": {},
   "outputs": [
    {
     "name": "stdout",
     "output_type": "stream",
     "text": [
      "4 4\n"
     ]
    }
   ],
   "source": [
    "# 3276\n",
    "N = int(input())\n",
    "x = 0\n",
    "while N > x**2:\n",
    "    x+=1\n",
    "for a in range(0,x+1):\n",
    "    if x*(a+1) >= N and x*(a)< N:\n",
    "        print(x,a+1)"
   ]
  },
  {
   "cell_type": "code",
   "execution_count": null,
   "metadata": {},
   "outputs": [
    {
     "name": "stdout",
     "output_type": "stream",
     "text": [
      "0 2 3\n"
     ]
    }
   ],
   "source": [
    "# 3460\n",
    "T = int(input())\n",
    "for _ in range(T):\n",
    "    n = int(input())\n",
    "    idx = 0\n",
    "    a = []\n",
    "    while n>0:\n",
    "        if n%2 == 1:\n",
    "            a.append(str(idx))\n",
    "        n = n//2\n",
    "        idx +=1\n",
    "    print(' '.join(a))"
   ]
  },
  {
   "cell_type": "code",
   "execution_count": null,
   "metadata": {},
   "outputs": [
    {
     "name": "stdout",
     "output_type": "stream",
     "text": [
      "3\n"
     ]
    }
   ],
   "source": [
    "# 3507\n",
    "n = int(input())\n",
    "print((199-n,0)[n>199])"
   ]
  },
  {
   "cell_type": "code",
   "execution_count": null,
   "metadata": {},
   "outputs": [
    {
     "name": "stdout",
     "output_type": "stream",
     "text": [
      "46 16 3187500.0\n"
     ]
    }
   ],
   "source": [
    " # 3512\n",
    "n,c = map(int, input().split())\n",
    "x,y,z = (0,0,0)\n",
    "for _ in range(n):\n",
    "    i,j = input().split()\n",
    "    x += int(i)\n",
    "    y += int(i)*(0,1)[j in 'bedroom']\n",
    "    z += int(i)*(0,0.5)[j in 'balcony']    \n",
    "p = c*(x-z)\n",
    "print(x,y,p)"
   ]
  },
  {
   "cell_type": "code",
   "execution_count": 1,
   "metadata": {},
   "outputs": [
    {
     "name": "stdout",
     "output_type": "stream",
     "text": [
      "0\n"
     ]
    }
   ],
   "source": [
    "# 3533\n",
    "f = list(map(int, input().split()))\n",
    "x = 0\n",
    "for i in range(len(f)):\n",
    "    for j in range(i+1, len(f)):\n",
    "        x^=(f[i] | f[j])\n",
    "        for k in range(j+1,len(f)):\n",
    "            x^=(f[i] | f[j] | f[k])\n",
    "print(x)"
   ]
  },
  {
   "cell_type": "code",
   "execution_count": 2,
   "metadata": {},
   "outputs": [
    {
     "ename": "ValueError",
     "evalue": "invalid literal for int() with base 10: ''",
     "output_type": "error",
     "traceback": [
      "\u001b[1;31m---------------------------------------------------------------------------\u001b[0m",
      "\u001b[1;31mValueError\u001b[0m                                Traceback (most recent call last)",
      "Cell \u001b[1;32mIn[2], line 4\u001b[0m\n\u001b[0;32m      2\u001b[0m t \u001b[39m=\u001b[39m \u001b[39minput\u001b[39m()\n\u001b[0;32m      3\u001b[0m a \u001b[39m=\u001b[39m \u001b[39mmap\u001b[39m(\u001b[39mint\u001b[39m, \u001b[39minput\u001b[39m()\u001b[39m.\u001b[39msplit())\n\u001b[1;32m----> 4\u001b[0m \u001b[39mfor\u001b[39;00m _ \u001b[39min\u001b[39;00m \u001b[39mrange\u001b[39m(\u001b[39mint\u001b[39;49m(\u001b[39minput\u001b[39;49m())):\n\u001b[0;32m      5\u001b[0m     k, l, r \u001b[39m=\u001b[39m \u001b[39mmap\u001b[39m(\u001b[39mint\u001b[39m, \u001b[39minput\u001b[39m()\u001b[39m.\u001b[39msplit())\n\u001b[0;32m      6\u001b[0m     \u001b[39mif\u001b[39;00m k \u001b[39m==\u001b[39m \u001b[39m1\u001b[39m:\n",
      "\u001b[1;31mValueError\u001b[0m: invalid literal for int() with base 10: ''"
     ]
    }
   ],
   "source": [
    "# 3554\n",
    "t = input()\n",
    "a = map(int, input().split())\n",
    "for _ in range(int(input())):\n",
    "    k, l, r = map(int, input().split())\n",
    "    if k == 1:\n",
    "        for i in range(l-1,r):\n",
    "            a[i]= (a[i]**2)%2010\n",
    "    elif k == 2:\n",
    "        print(sum(a[l-1:r]))"
   ]
  },
  {
   "cell_type": "code",
   "execution_count": 10,
   "metadata": {},
   "outputs": [
    {
     "name": "stdout",
     "output_type": "stream",
     "text": [
      "88888888888888888888888888888888888\n"
     ]
    }
   ],
   "source": [
    "# 94061\n",
    "h = int(input())\n",
    "print(('4'*(h%2)+'8'*(h//2),'0','1')[(h<=1)+(h==0)])"
   ]
  },
  {
   "cell_type": "code",
   "execution_count": 3,
   "metadata": {},
   "outputs": [
    {
     "name": "stdout",
     "output_type": "stream",
     "text": [
      "6\n",
      "4\n",
      "0\n"
     ]
    }
   ],
   "source": [
    "# 4084\n",
    "while 1:\n",
    "    try:\n",
    "        a = input()\n",
    "    except:\n",
    "        break\n",
    "    if a == '0 0 0 0':\n",
    "        break\n",
    "    t = 0\n",
    "    x = list(map(int, a.split()))\n",
    "    while 1:\n",
    "        if x[0]==x[1] and x[1]==x[2] and x[2]==x[3]:\n",
    "            break\n",
    "        x = [abs(x[i]-x[(i+1)%4]) for i in range(4)]\n",
    "        t += 1\n",
    "    print(t)"
   ]
  },
  {
   "cell_type": "code",
   "execution_count": null,
   "metadata": {},
   "outputs": [],
   "source": [
    "import sys\n",
    "\n",
    "input = sys.stdin.readline\n",
    "while True:\n",
    "    a, b, c, d = map(int, input().split())\n",
    "    if a == b == c == d == 0:\n",
    "        break\n",
    "    ans = 0\n",
    "    while not (a == b == c == d):\n",
    "        a, b, c, d = abs(a - b), abs(b - c), abs(c - d), abs(d - a)\n",
    "        ans += 1\n",
    "    print(ans)"
   ]
  },
  {
   "cell_type": "code",
   "execution_count": 14,
   "metadata": {},
   "outputs": [
    {
     "name": "stdout",
     "output_type": "stream",
     "text": [
      "wrong\n",
      "right\n"
     ]
    }
   ],
   "source": [
    "# 4153\n",
    "while 1:\n",
    "    try:\n",
    "        a,b,c =sorted(list(map(int,input().split())))\n",
    "    except:\n",
    "        break    \n",
    "    if a==b==c==0:\n",
    "        break\n",
    "    print(('wrong','right')[c*c == a*a + b*b])"
   ]
  },
  {
   "cell_type": "code",
   "execution_count": 26,
   "metadata": {},
   "outputs": [
    {
     "name": "stdout",
     "output_type": "stream",
     "text": [
      "3210 6540\n",
      "0\n",
      "5550 5550\n",
      "3\n",
      "3210 4950\n",
      "1\n"
     ]
    }
   ],
   "source": [
    "# 4388\n",
    "while 1:\n",
    "    try:\n",
    "        a,b = map(int, input().split())\n",
    "    except:\n",
    "        break\n",
    "    if a==b==0:\n",
    "        break\n",
    "    x, y = str(min(a,b))[::-1], str(max(a,b))[::-1]    \n",
    "    x += '0'*(len(y)-len(x)+1)\n",
    "    y += '0'\n",
    "    idx = 0\n",
    "    z = ''\n",
    "    for i in range(len(x)):        \n",
    "        if eval(f'{x[i]}+{y[i]}'+f'+{z}'*(z!='')) > 9:\n",
    "            z = '1'\n",
    "            idx+=1\n",
    "        else:\n",
    "            z =''\n",
    "    print(idx)\n"
   ]
  },
  {
   "cell_type": "code",
   "execution_count": 32,
   "metadata": {},
   "outputs": [
    {
     "name": "stdout",
     "output_type": "stream",
     "text": [
      "Battle 1: Evil eradicates all trace of Good\n",
      "Battle 2: Good triumphs over Evil\n",
      "Battle 3: No victor on this battle field\n"
     ]
    }
   ],
   "source": [
    "# 4435\n",
    "G = [1,2,3,3,4,10]\n",
    "S = [1,2,2,2,3,5,10]\n",
    "for t in range(int(input())):\n",
    "    a = list(map(int, input().split()))\n",
    "    A = sum([a[i]*G[i] for i in range(len(G))])\n",
    "    b =list(map(int, input().split()))\n",
    "    B = sum([b[j]*S[j] for j in range(len(S))])\n",
    "    print(f'Battle {t+1}: '+(\"Good triumphs over Evil\",\"Evil eradicates all trace of Good\",\"No victor on this battle field\")[(A<B)-(A==B)])"
   ]
  },
  {
   "cell_type": "code",
   "execution_count": 28,
   "metadata": {},
   "outputs": [
    {
     "data": {
      "text/plain": [
       "0"
      ]
     },
     "execution_count": 28,
     "metadata": {},
     "output_type": "execute_result"
    }
   ],
   "source": [
    "import sys\n",
    "input = sys.stdin.readline\n",
    "\n",
    "gan = [1,2,3,3,4,10]\n",
    "sa = [1,2,2,2,3,5,10]\n",
    "\n",
    "for t in range(int(input())):\n",
    "    g = sum(list(map(lambda x, y: x*y, map(int, input().split()), gan)))\n",
    "    s = sum(list(map(lambda x, y: x*y, map(int, input().split()), sa)))\n",
    "    print('Battle {0}: '.format(t+1), end='')\n",
    "    if g == s:\n",
    "        print(\"No victor on this battle field\")\n",
    "    elif g > s:\n",
    "        print(\"Good triumphs over Evil\")\n",
    "    else:\n",
    "        print(\"Evil eradicates all trace of Good\")"
   ]
  },
  {
   "cell_type": "code",
   "execution_count": 33,
   "metadata": {},
   "outputs": [
    {
     "name": "stdout",
     "output_type": "stream",
     "text": [
      "Powdered Toast Man\n",
      "Powdered Toast Man\n",
      "Powdered Toast Man\n",
      "Powdered Toast Man\n",
      "Powdered Toast Man\n"
     ]
    }
   ],
   "source": [
    "# 4458\n",
    "for _ in range(int(input())):\n",
    "    a = input()\n",
    "    a = a[0].upper()+a[1:]\n",
    "    print(a)"
   ]
  },
  {
   "cell_type": "code",
   "execution_count": null,
   "metadata": {},
   "outputs": [],
   "source": [
    "for s in [*open(0)][1:]:\n",
    "    print(s[0].upper()+s[1:].strip())"
   ]
  },
  {
   "cell_type": "code",
   "execution_count": 47,
   "metadata": {},
   "outputs": [
    {
     "name": "stdout",
     "output_type": "stream",
     "text": [
      "Rule 2: w\n",
      "Rule -10: No such rule\n",
      "Rule 5: No such rule\n",
      "Rule 1: q\n",
      "Rule 4: r\n"
     ]
    }
   ],
   "source": [
    "# 4459\n",
    "r = {}\n",
    "for i in range(int(input())):\n",
    "    r[i+1] = input()\n",
    "for _ in range(int(input())):\n",
    "    a = int(input())\n",
    "    print(f\"Rule {a}: \" + (f\"{r[a]}\" if a in r.keys() else 'No such rule'))"
   ]
  },
  {
   "cell_type": "code",
   "execution_count": 54,
   "metadata": {},
   "outputs": [
    {
     "name": "stdout",
     "output_type": "stream",
     "text": [
      "3\n",
      "5\n",
      "Player 2\n",
      "10\n",
      "0\n",
      "5\n",
      "TIE\n",
      "2\n",
      "Player 1\n"
     ]
    }
   ],
   "source": [
    "# 4493\n",
    "rsp = 'RSPRPSRRSSPP'\n",
    "for _ in range(int(input())):\n",
    "    x = 0\n",
    "    for i in range(int(input())):\n",
    "        a = ''.join(input().split())\n",
    "        a = rsp.find(a)\n",
    "        x += (1 if a <= 2 else -1 if a <= 5 else 0)\n",
    "    print(('TIE', 'Player 1', 'Player 2')[(x>0)-(x<0)])"
   ]
  },
  {
   "cell_type": "code",
   "execution_count": 60,
   "metadata": {},
   "outputs": [
    {
     "name": "stdout",
     "output_type": "stream",
     "text": [
      "1 is NOT a multiple of 3.\n",
      "7 is NOT a multiple of 3.\n",
      "33 is a multiple of 3.\n",
      "999 is a multiple of 3.\n",
      "321 is a multiple of 3.\n"
     ]
    }
   ],
   "source": [
    "# 4504\n",
    "n = int(input())\n",
    "while 1:\n",
    "    try:\n",
    "        a = int(input())\n",
    "    except:\n",
    "        break\n",
    "    if a==0:\n",
    "        break\n",
    "    x = a%n\n",
    "    print(f'{a} is '+'NOT '*(x!=0)+f\"a multiple of {n}.\")"
   ]
  },
  {
   "cell_type": "code",
   "execution_count": 63,
   "metadata": {},
   "outputs": [
    {
     "name": "stdout",
     "output_type": "stream",
     "text": [
      "2\n",
      "3\n",
      "4\n",
      "4\n",
      "16\n"
     ]
    }
   ],
   "source": [
    "# 4619\n",
    "while 1:\n",
    "    try:\n",
    "        b,n = map(int, input().split())\n",
    "    except:\n",
    "        break\n",
    "    if b==n==0:\n",
    "        break\n",
    "    a = 1\n",
    "    while a**n < b:\n",
    "        a+=1\n",
    "    print((a-1,a)[a**n-b<=b-(a-1)**n])    "
   ]
  },
  {
   "cell_type": "code",
   "execution_count": null,
   "metadata": {},
   "outputs": [],
   "source": [
    "while True:\n",
    "    a, b = map(int, input().split())\n",
    "    try:\n",
    "        t = int(a**(1/b))\n",
    "        print(t if abs(t**b-a) < abs((t+1)**b-a) else t+1)\n",
    "    except:\n",
    "        break"
   ]
  },
  {
   "cell_type": "code",
   "execution_count": 72,
   "metadata": {},
   "outputs": [
    {
     "name": "stdout",
     "output_type": "stream",
     "text": [
      "[0, 2] [0, 40]\n",
      "[0, 2, 6] [0, 40, 120]\n",
      "[0, 2, 6, 7] [0, 40, 120, 10]\n",
      "170 miles\n"
     ]
    }
   ],
   "source": [
    "# 4635\n",
    "while 1:\n",
    "    try:\n",
    "        n = int(input())\n",
    "    except:\n",
    "        break\n",
    "    if n == -1:\n",
    "        break\n",
    "    x = [0]\n",
    "    y = [0]\n",
    "    for i in range(n):        \n",
    "        a, b = map(int, input().split())\n",
    "        x.append(b)\n",
    "        y.append(a*(b-x[i]))\n",
    "    print(f'{sum(y)} miles')"
   ]
  }
 ],
 "metadata": {
  "kernelspec": {
   "display_name": "Python 3",
   "language": "python",
   "name": "python3"
  },
  "language_info": {
   "codemirror_mode": {
    "name": "ipython",
    "version": 3
   },
   "file_extension": ".py",
   "mimetype": "text/x-python",
   "name": "python",
   "nbconvert_exporter": "python",
   "pygments_lexer": "ipython3",
   "version": "3.10.6"
  },
  "orig_nbformat": 4
 },
 "nbformat": 4,
 "nbformat_minor": 2
}
